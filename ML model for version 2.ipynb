{
 "cells": [
  {
   "cell_type": "code",
   "execution_count": 1,
   "id": "d55255e0",
   "metadata": {},
   "outputs": [],
   "source": [
    "import pandas as pd\n",
    "import numpy as np\n",
    "from sklearn.model_selection import train_test_split\n",
    "from sklearn.linear_model import LogisticRegression\n",
    "from sklearn.ensemble import RandomForestClassifier\n",
    "from sklearn.tree import DecisionTreeClassifier\n",
    "from sklearn.model_selection import GridSearchCV\n",
    "from sklearn.ensemble import AdaBoostClassifier,GradientBoostingClassifier\n",
    "from sklearn.metrics import accuracy_score,f1_score,classification_report,precision_score,recall_score,roc_auc_score\n",
    "from xgboost import XGBClassifier"
   ]
  },
  {
   "cell_type": "code",
   "execution_count": 2,
   "id": "b272b490",
   "metadata": {},
   "outputs": [],
   "source": [
    "import matplotlib.pyplot as plt\n",
    "plt.rcParams['figure.figsize']=[15,8]"
   ]
  },
  {
   "cell_type": "code",
   "execution_count": 3,
   "id": "19fb6060",
   "metadata": {},
   "outputs": [],
   "source": [
    "import warnings\n",
    "warnings.filterwarnings(\"ignore\")"
   ]
  },
  {
   "cell_type": "code",
   "execution_count": 4,
   "id": "d9fd958a",
   "metadata": {},
   "outputs": [],
   "source": [
    "pd.options.display.max_columns=None"
   ]
  },
  {
   "cell_type": "code",
   "execution_count": 5,
   "id": "e2147fa6",
   "metadata": {},
   "outputs": [
    {
     "data": {
      "text/html": [
       "<div>\n",
       "<style scoped>\n",
       "    .dataframe tbody tr th:only-of-type {\n",
       "        vertical-align: middle;\n",
       "    }\n",
       "\n",
       "    .dataframe tbody tr th {\n",
       "        vertical-align: top;\n",
       "    }\n",
       "\n",
       "    .dataframe thead th {\n",
       "        text-align: right;\n",
       "    }\n",
       "</style>\n",
       "<table border=\"1\" class=\"dataframe\">\n",
       "  <thead>\n",
       "    <tr style=\"text-align: right;\">\n",
       "      <th></th>\n",
       "      <th>race</th>\n",
       "      <th>gender</th>\n",
       "      <th>age</th>\n",
       "      <th>admission_type_id</th>\n",
       "      <th>discharge_disposition_id</th>\n",
       "      <th>admission_source_id</th>\n",
       "      <th>time_in_hospital</th>\n",
       "      <th>num_lab_procedures</th>\n",
       "      <th>num_procedures</th>\n",
       "      <th>num_medications</th>\n",
       "      <th>number_outpatient</th>\n",
       "      <th>number_emergency</th>\n",
       "      <th>number_inpatient</th>\n",
       "      <th>diag_1</th>\n",
       "      <th>diag_2</th>\n",
       "      <th>diag_3</th>\n",
       "      <th>number_diagnoses</th>\n",
       "      <th>max_glu_serum</th>\n",
       "      <th>A1Cresult</th>\n",
       "      <th>metformin</th>\n",
       "      <th>glimepiride</th>\n",
       "      <th>glipizide</th>\n",
       "      <th>glyburide</th>\n",
       "      <th>pioglitazone</th>\n",
       "      <th>rosiglitazone</th>\n",
       "      <th>insulin</th>\n",
       "      <th>change</th>\n",
       "      <th>diabetesMed</th>\n",
       "      <th>readmitted</th>\n",
       "    </tr>\n",
       "  </thead>\n",
       "  <tbody>\n",
       "    <tr>\n",
       "      <th>0</th>\n",
       "      <td>Caucasian</td>\n",
       "      <td>0</td>\n",
       "      <td>(0-10)</td>\n",
       "      <td>6</td>\n",
       "      <td>18</td>\n",
       "      <td>1</td>\n",
       "      <td>1</td>\n",
       "      <td>41</td>\n",
       "      <td>0</td>\n",
       "      <td>1</td>\n",
       "      <td>0</td>\n",
       "      <td>0</td>\n",
       "      <td>0</td>\n",
       "      <td>3</td>\n",
       "      <td>0</td>\n",
       "      <td>0</td>\n",
       "      <td>1</td>\n",
       "      <td>0</td>\n",
       "      <td>0</td>\n",
       "      <td>0</td>\n",
       "      <td>0</td>\n",
       "      <td>0</td>\n",
       "      <td>0</td>\n",
       "      <td>0</td>\n",
       "      <td>0</td>\n",
       "      <td>0</td>\n",
       "      <td>0</td>\n",
       "      <td>0</td>\n",
       "      <td>0</td>\n",
       "    </tr>\n",
       "    <tr>\n",
       "      <th>1</th>\n",
       "      <td>Caucasian</td>\n",
       "      <td>0</td>\n",
       "      <td>(10-20)</td>\n",
       "      <td>1</td>\n",
       "      <td>1</td>\n",
       "      <td>7</td>\n",
       "      <td>3</td>\n",
       "      <td>59</td>\n",
       "      <td>0</td>\n",
       "      <td>18</td>\n",
       "      <td>0</td>\n",
       "      <td>0</td>\n",
       "      <td>0</td>\n",
       "      <td>3</td>\n",
       "      <td>3</td>\n",
       "      <td>3</td>\n",
       "      <td>9</td>\n",
       "      <td>0</td>\n",
       "      <td>0</td>\n",
       "      <td>0</td>\n",
       "      <td>0</td>\n",
       "      <td>0</td>\n",
       "      <td>0</td>\n",
       "      <td>0</td>\n",
       "      <td>0</td>\n",
       "      <td>3</td>\n",
       "      <td>1</td>\n",
       "      <td>1</td>\n",
       "      <td>1</td>\n",
       "    </tr>\n",
       "    <tr>\n",
       "      <th>2</th>\n",
       "      <td>AfricanAmerican</td>\n",
       "      <td>0</td>\n",
       "      <td>(20-30)</td>\n",
       "      <td>1</td>\n",
       "      <td>1</td>\n",
       "      <td>7</td>\n",
       "      <td>2</td>\n",
       "      <td>11</td>\n",
       "      <td>5</td>\n",
       "      <td>13</td>\n",
       "      <td>2</td>\n",
       "      <td>0</td>\n",
       "      <td>1</td>\n",
       "      <td>11</td>\n",
       "      <td>3</td>\n",
       "      <td>0</td>\n",
       "      <td>6</td>\n",
       "      <td>0</td>\n",
       "      <td>0</td>\n",
       "      <td>0</td>\n",
       "      <td>0</td>\n",
       "      <td>2</td>\n",
       "      <td>0</td>\n",
       "      <td>0</td>\n",
       "      <td>0</td>\n",
       "      <td>0</td>\n",
       "      <td>0</td>\n",
       "      <td>1</td>\n",
       "      <td>0</td>\n",
       "    </tr>\n",
       "    <tr>\n",
       "      <th>3</th>\n",
       "      <td>Caucasian</td>\n",
       "      <td>1</td>\n",
       "      <td>(30-40)</td>\n",
       "      <td>1</td>\n",
       "      <td>1</td>\n",
       "      <td>7</td>\n",
       "      <td>2</td>\n",
       "      <td>44</td>\n",
       "      <td>1</td>\n",
       "      <td>16</td>\n",
       "      <td>0</td>\n",
       "      <td>0</td>\n",
       "      <td>0</td>\n",
       "      <td>1</td>\n",
       "      <td>3</td>\n",
       "      <td>7</td>\n",
       "      <td>7</td>\n",
       "      <td>0</td>\n",
       "      <td>0</td>\n",
       "      <td>0</td>\n",
       "      <td>0</td>\n",
       "      <td>0</td>\n",
       "      <td>0</td>\n",
       "      <td>0</td>\n",
       "      <td>0</td>\n",
       "      <td>3</td>\n",
       "      <td>1</td>\n",
       "      <td>1</td>\n",
       "      <td>0</td>\n",
       "    </tr>\n",
       "    <tr>\n",
       "      <th>4</th>\n",
       "      <td>Caucasian</td>\n",
       "      <td>1</td>\n",
       "      <td>(40-50)</td>\n",
       "      <td>1</td>\n",
       "      <td>1</td>\n",
       "      <td>7</td>\n",
       "      <td>1</td>\n",
       "      <td>51</td>\n",
       "      <td>0</td>\n",
       "      <td>8</td>\n",
       "      <td>0</td>\n",
       "      <td>0</td>\n",
       "      <td>0</td>\n",
       "      <td>2</td>\n",
       "      <td>2</td>\n",
       "      <td>3</td>\n",
       "      <td>5</td>\n",
       "      <td>0</td>\n",
       "      <td>0</td>\n",
       "      <td>0</td>\n",
       "      <td>0</td>\n",
       "      <td>2</td>\n",
       "      <td>0</td>\n",
       "      <td>0</td>\n",
       "      <td>0</td>\n",
       "      <td>2</td>\n",
       "      <td>1</td>\n",
       "      <td>1</td>\n",
       "      <td>0</td>\n",
       "    </tr>\n",
       "  </tbody>\n",
       "</table>\n",
       "</div>"
      ],
      "text/plain": [
       "              race  gender      age  admission_type_id  \\\n",
       "0        Caucasian       0   (0-10)                  6   \n",
       "1        Caucasian       0  (10-20)                  1   \n",
       "2  AfricanAmerican       0  (20-30)                  1   \n",
       "3        Caucasian       1  (30-40)                  1   \n",
       "4        Caucasian       1  (40-50)                  1   \n",
       "\n",
       "   discharge_disposition_id  admission_source_id  time_in_hospital  \\\n",
       "0                        18                    1                 1   \n",
       "1                         1                    7                 3   \n",
       "2                         1                    7                 2   \n",
       "3                         1                    7                 2   \n",
       "4                         1                    7                 1   \n",
       "\n",
       "   num_lab_procedures  num_procedures  num_medications  number_outpatient  \\\n",
       "0                  41               0                1                  0   \n",
       "1                  59               0               18                  0   \n",
       "2                  11               5               13                  2   \n",
       "3                  44               1               16                  0   \n",
       "4                  51               0                8                  0   \n",
       "\n",
       "   number_emergency  number_inpatient  diag_1  diag_2  diag_3  \\\n",
       "0                 0                 0       3       0       0   \n",
       "1                 0                 0       3       3       3   \n",
       "2                 0                 1      11       3       0   \n",
       "3                 0                 0       1       3       7   \n",
       "4                 0                 0       2       2       3   \n",
       "\n",
       "   number_diagnoses  max_glu_serum  A1Cresult  metformin  glimepiride  \\\n",
       "0                 1              0          0          0            0   \n",
       "1                 9              0          0          0            0   \n",
       "2                 6              0          0          0            0   \n",
       "3                 7              0          0          0            0   \n",
       "4                 5              0          0          0            0   \n",
       "\n",
       "   glipizide  glyburide  pioglitazone  rosiglitazone  insulin  change  \\\n",
       "0          0          0             0              0        0       0   \n",
       "1          0          0             0              0        3       1   \n",
       "2          2          0             0              0        0       0   \n",
       "3          0          0             0              0        3       1   \n",
       "4          2          0             0              0        2       1   \n",
       "\n",
       "   diabetesMed  readmitted  \n",
       "0            0           0  \n",
       "1            1           1  \n",
       "2            1           0  \n",
       "3            1           0  \n",
       "4            1           0  "
      ]
     },
     "execution_count": 5,
     "metadata": {},
     "output_type": "execute_result"
    }
   ],
   "source": [
    "df=pd.read_csv('dia_ready_for_model.csv')\n",
    "df.head()"
   ]
  },
  {
   "cell_type": "code",
   "execution_count": 6,
   "id": "d21d2295",
   "metadata": {},
   "outputs": [],
   "source": [
    "import statsmodels.api as sm"
   ]
  },
  {
   "cell_type": "code",
   "execution_count": 7,
   "id": "c137c9f6",
   "metadata": {},
   "outputs": [],
   "source": [
    "## preparing the model for model."
   ]
  },
  {
   "cell_type": "code",
   "execution_count": 8,
   "id": "938c9e6d",
   "metadata": {},
   "outputs": [],
   "source": [
    "df_dumy=pd.get_dummies(df,drop_first=True)"
   ]
  },
  {
   "cell_type": "code",
   "execution_count": 9,
   "id": "1a6d29e0",
   "metadata": {},
   "outputs": [
    {
     "data": {
      "text/html": [
       "<div>\n",
       "<style scoped>\n",
       "    .dataframe tbody tr th:only-of-type {\n",
       "        vertical-align: middle;\n",
       "    }\n",
       "\n",
       "    .dataframe tbody tr th {\n",
       "        vertical-align: top;\n",
       "    }\n",
       "\n",
       "    .dataframe thead th {\n",
       "        text-align: right;\n",
       "    }\n",
       "</style>\n",
       "<table border=\"1\" class=\"dataframe\">\n",
       "  <thead>\n",
       "    <tr style=\"text-align: right;\">\n",
       "      <th></th>\n",
       "      <th>gender</th>\n",
       "      <th>admission_type_id</th>\n",
       "      <th>discharge_disposition_id</th>\n",
       "      <th>admission_source_id</th>\n",
       "      <th>time_in_hospital</th>\n",
       "      <th>num_lab_procedures</th>\n",
       "      <th>num_procedures</th>\n",
       "      <th>num_medications</th>\n",
       "      <th>number_outpatient</th>\n",
       "      <th>number_emergency</th>\n",
       "      <th>number_inpatient</th>\n",
       "      <th>diag_1</th>\n",
       "      <th>diag_2</th>\n",
       "      <th>diag_3</th>\n",
       "      <th>number_diagnoses</th>\n",
       "      <th>max_glu_serum</th>\n",
       "      <th>A1Cresult</th>\n",
       "      <th>metformin</th>\n",
       "      <th>glimepiride</th>\n",
       "      <th>glipizide</th>\n",
       "      <th>glyburide</th>\n",
       "      <th>pioglitazone</th>\n",
       "      <th>rosiglitazone</th>\n",
       "      <th>insulin</th>\n",
       "      <th>change</th>\n",
       "      <th>diabetesMed</th>\n",
       "      <th>readmitted</th>\n",
       "      <th>race_Asian</th>\n",
       "      <th>race_Caucasian</th>\n",
       "      <th>race_Hispanic</th>\n",
       "      <th>race_Other</th>\n",
       "      <th>age_(10-20)</th>\n",
       "      <th>age_(20-30)</th>\n",
       "      <th>age_(30-40)</th>\n",
       "      <th>age_(40-50)</th>\n",
       "      <th>age_(50-60)</th>\n",
       "      <th>age_(60-70)</th>\n",
       "      <th>age_(70-80)</th>\n",
       "      <th>age_(80-90)</th>\n",
       "      <th>age_(90-100)</th>\n",
       "    </tr>\n",
       "  </thead>\n",
       "  <tbody>\n",
       "    <tr>\n",
       "      <th>0</th>\n",
       "      <td>0</td>\n",
       "      <td>6</td>\n",
       "      <td>18</td>\n",
       "      <td>1</td>\n",
       "      <td>1</td>\n",
       "      <td>41</td>\n",
       "      <td>0</td>\n",
       "      <td>1</td>\n",
       "      <td>0</td>\n",
       "      <td>0</td>\n",
       "      <td>0</td>\n",
       "      <td>3</td>\n",
       "      <td>0</td>\n",
       "      <td>0</td>\n",
       "      <td>1</td>\n",
       "      <td>0</td>\n",
       "      <td>0</td>\n",
       "      <td>0</td>\n",
       "      <td>0</td>\n",
       "      <td>0</td>\n",
       "      <td>0</td>\n",
       "      <td>0</td>\n",
       "      <td>0</td>\n",
       "      <td>0</td>\n",
       "      <td>0</td>\n",
       "      <td>0</td>\n",
       "      <td>0</td>\n",
       "      <td>0</td>\n",
       "      <td>1</td>\n",
       "      <td>0</td>\n",
       "      <td>0</td>\n",
       "      <td>0</td>\n",
       "      <td>0</td>\n",
       "      <td>0</td>\n",
       "      <td>0</td>\n",
       "      <td>0</td>\n",
       "      <td>0</td>\n",
       "      <td>0</td>\n",
       "      <td>0</td>\n",
       "      <td>0</td>\n",
       "    </tr>\n",
       "    <tr>\n",
       "      <th>1</th>\n",
       "      <td>0</td>\n",
       "      <td>1</td>\n",
       "      <td>1</td>\n",
       "      <td>7</td>\n",
       "      <td>3</td>\n",
       "      <td>59</td>\n",
       "      <td>0</td>\n",
       "      <td>18</td>\n",
       "      <td>0</td>\n",
       "      <td>0</td>\n",
       "      <td>0</td>\n",
       "      <td>3</td>\n",
       "      <td>3</td>\n",
       "      <td>3</td>\n",
       "      <td>9</td>\n",
       "      <td>0</td>\n",
       "      <td>0</td>\n",
       "      <td>0</td>\n",
       "      <td>0</td>\n",
       "      <td>0</td>\n",
       "      <td>0</td>\n",
       "      <td>0</td>\n",
       "      <td>0</td>\n",
       "      <td>3</td>\n",
       "      <td>1</td>\n",
       "      <td>1</td>\n",
       "      <td>1</td>\n",
       "      <td>0</td>\n",
       "      <td>1</td>\n",
       "      <td>0</td>\n",
       "      <td>0</td>\n",
       "      <td>1</td>\n",
       "      <td>0</td>\n",
       "      <td>0</td>\n",
       "      <td>0</td>\n",
       "      <td>0</td>\n",
       "      <td>0</td>\n",
       "      <td>0</td>\n",
       "      <td>0</td>\n",
       "      <td>0</td>\n",
       "    </tr>\n",
       "    <tr>\n",
       "      <th>2</th>\n",
       "      <td>0</td>\n",
       "      <td>1</td>\n",
       "      <td>1</td>\n",
       "      <td>7</td>\n",
       "      <td>2</td>\n",
       "      <td>11</td>\n",
       "      <td>5</td>\n",
       "      <td>13</td>\n",
       "      <td>2</td>\n",
       "      <td>0</td>\n",
       "      <td>1</td>\n",
       "      <td>11</td>\n",
       "      <td>3</td>\n",
       "      <td>0</td>\n",
       "      <td>6</td>\n",
       "      <td>0</td>\n",
       "      <td>0</td>\n",
       "      <td>0</td>\n",
       "      <td>0</td>\n",
       "      <td>2</td>\n",
       "      <td>0</td>\n",
       "      <td>0</td>\n",
       "      <td>0</td>\n",
       "      <td>0</td>\n",
       "      <td>0</td>\n",
       "      <td>1</td>\n",
       "      <td>0</td>\n",
       "      <td>0</td>\n",
       "      <td>0</td>\n",
       "      <td>0</td>\n",
       "      <td>0</td>\n",
       "      <td>0</td>\n",
       "      <td>1</td>\n",
       "      <td>0</td>\n",
       "      <td>0</td>\n",
       "      <td>0</td>\n",
       "      <td>0</td>\n",
       "      <td>0</td>\n",
       "      <td>0</td>\n",
       "      <td>0</td>\n",
       "    </tr>\n",
       "    <tr>\n",
       "      <th>3</th>\n",
       "      <td>1</td>\n",
       "      <td>1</td>\n",
       "      <td>1</td>\n",
       "      <td>7</td>\n",
       "      <td>2</td>\n",
       "      <td>44</td>\n",
       "      <td>1</td>\n",
       "      <td>16</td>\n",
       "      <td>0</td>\n",
       "      <td>0</td>\n",
       "      <td>0</td>\n",
       "      <td>1</td>\n",
       "      <td>3</td>\n",
       "      <td>7</td>\n",
       "      <td>7</td>\n",
       "      <td>0</td>\n",
       "      <td>0</td>\n",
       "      <td>0</td>\n",
       "      <td>0</td>\n",
       "      <td>0</td>\n",
       "      <td>0</td>\n",
       "      <td>0</td>\n",
       "      <td>0</td>\n",
       "      <td>3</td>\n",
       "      <td>1</td>\n",
       "      <td>1</td>\n",
       "      <td>0</td>\n",
       "      <td>0</td>\n",
       "      <td>1</td>\n",
       "      <td>0</td>\n",
       "      <td>0</td>\n",
       "      <td>0</td>\n",
       "      <td>0</td>\n",
       "      <td>1</td>\n",
       "      <td>0</td>\n",
       "      <td>0</td>\n",
       "      <td>0</td>\n",
       "      <td>0</td>\n",
       "      <td>0</td>\n",
       "      <td>0</td>\n",
       "    </tr>\n",
       "    <tr>\n",
       "      <th>4</th>\n",
       "      <td>1</td>\n",
       "      <td>1</td>\n",
       "      <td>1</td>\n",
       "      <td>7</td>\n",
       "      <td>1</td>\n",
       "      <td>51</td>\n",
       "      <td>0</td>\n",
       "      <td>8</td>\n",
       "      <td>0</td>\n",
       "      <td>0</td>\n",
       "      <td>0</td>\n",
       "      <td>2</td>\n",
       "      <td>2</td>\n",
       "      <td>3</td>\n",
       "      <td>5</td>\n",
       "      <td>0</td>\n",
       "      <td>0</td>\n",
       "      <td>0</td>\n",
       "      <td>0</td>\n",
       "      <td>2</td>\n",
       "      <td>0</td>\n",
       "      <td>0</td>\n",
       "      <td>0</td>\n",
       "      <td>2</td>\n",
       "      <td>1</td>\n",
       "      <td>1</td>\n",
       "      <td>0</td>\n",
       "      <td>0</td>\n",
       "      <td>1</td>\n",
       "      <td>0</td>\n",
       "      <td>0</td>\n",
       "      <td>0</td>\n",
       "      <td>0</td>\n",
       "      <td>0</td>\n",
       "      <td>1</td>\n",
       "      <td>0</td>\n",
       "      <td>0</td>\n",
       "      <td>0</td>\n",
       "      <td>0</td>\n",
       "      <td>0</td>\n",
       "    </tr>\n",
       "  </tbody>\n",
       "</table>\n",
       "</div>"
      ],
      "text/plain": [
       "   gender  admission_type_id  discharge_disposition_id  admission_source_id  \\\n",
       "0       0                  6                        18                    1   \n",
       "1       0                  1                         1                    7   \n",
       "2       0                  1                         1                    7   \n",
       "3       1                  1                         1                    7   \n",
       "4       1                  1                         1                    7   \n",
       "\n",
       "   time_in_hospital  num_lab_procedures  num_procedures  num_medications  \\\n",
       "0                 1                  41               0                1   \n",
       "1                 3                  59               0               18   \n",
       "2                 2                  11               5               13   \n",
       "3                 2                  44               1               16   \n",
       "4                 1                  51               0                8   \n",
       "\n",
       "   number_outpatient  number_emergency  number_inpatient  diag_1  diag_2  \\\n",
       "0                  0                 0                 0       3       0   \n",
       "1                  0                 0                 0       3       3   \n",
       "2                  2                 0                 1      11       3   \n",
       "3                  0                 0                 0       1       3   \n",
       "4                  0                 0                 0       2       2   \n",
       "\n",
       "   diag_3  number_diagnoses  max_glu_serum  A1Cresult  metformin  glimepiride  \\\n",
       "0       0                 1              0          0          0            0   \n",
       "1       3                 9              0          0          0            0   \n",
       "2       0                 6              0          0          0            0   \n",
       "3       7                 7              0          0          0            0   \n",
       "4       3                 5              0          0          0            0   \n",
       "\n",
       "   glipizide  glyburide  pioglitazone  rosiglitazone  insulin  change  \\\n",
       "0          0          0             0              0        0       0   \n",
       "1          0          0             0              0        3       1   \n",
       "2          2          0             0              0        0       0   \n",
       "3          0          0             0              0        3       1   \n",
       "4          2          0             0              0        2       1   \n",
       "\n",
       "   diabetesMed  readmitted  race_Asian  race_Caucasian  race_Hispanic  \\\n",
       "0            0           0           0               1              0   \n",
       "1            1           1           0               1              0   \n",
       "2            1           0           0               0              0   \n",
       "3            1           0           0               1              0   \n",
       "4            1           0           0               1              0   \n",
       "\n",
       "   race_Other  age_(10-20)  age_(20-30)  age_(30-40)  age_(40-50)  \\\n",
       "0           0            0            0            0            0   \n",
       "1           0            1            0            0            0   \n",
       "2           0            0            1            0            0   \n",
       "3           0            0            0            1            0   \n",
       "4           0            0            0            0            1   \n",
       "\n",
       "   age_(50-60)  age_(60-70)  age_(70-80)  age_(80-90)  age_(90-100)  \n",
       "0            0            0            0            0             0  \n",
       "1            0            0            0            0             0  \n",
       "2            0            0            0            0             0  \n",
       "3            0            0            0            0             0  \n",
       "4            0            0            0            0             0  "
      ]
     },
     "execution_count": 9,
     "metadata": {},
     "output_type": "execute_result"
    }
   ],
   "source": [
    "df_dumy.head()"
   ]
  },
  {
   "cell_type": "code",
   "execution_count": 10,
   "id": "cb845b77",
   "metadata": {},
   "outputs": [],
   "source": [
    "\n",
    "X=df_dumy.drop('readmitted',axis=1)\n",
    "y=df_dumy['readmitted']\n"
   ]
  },
  {
   "cell_type": "code",
   "execution_count": 11,
   "id": "7d742d1b",
   "metadata": {},
   "outputs": [],
   "source": [
    "X_train, X_test, y_train, y_test = train_test_split(X, y, test_size=0.30, random_state=10,stratify=y)"
   ]
  },
  {
   "cell_type": "code",
   "execution_count": 12,
   "id": "d533a4c8",
   "metadata": {},
   "outputs": [
    {
     "data": {
      "text/plain": [
       "((49303, 39), (21131, 39), (49303,), (21131,))"
      ]
     },
     "execution_count": 12,
     "metadata": {},
     "output_type": "execute_result"
    }
   ],
   "source": [
    "X_train.shape, X_test.shape, y_train.shape, y_test.shape"
   ]
  },
  {
   "cell_type": "markdown",
   "id": "ce117d1f",
   "metadata": {},
   "source": [
    "## Logistic Regression`"
   ]
  },
  {
   "cell_type": "code",
   "execution_count": null,
   "id": "600add84",
   "metadata": {},
   "outputs": [],
   "source": []
  },
  {
   "cell_type": "code",
   "execution_count": 13,
   "id": "07731b01",
   "metadata": {},
   "outputs": [],
   "source": [
    "lr=LogisticRegression(random_state=10)\n",
    "modellr=lr.fit(X_train,y_train)\n"
   ]
  },
  {
   "cell_type": "code",
   "execution_count": 14,
   "id": "984b1b2e",
   "metadata": {},
   "outputs": [],
   "source": [
    "modellr=lr.fit(X_train,y_train)\n",
    "predtrain_lr=modellr.predict(X_train)\n",
    "predtest_lr=modellr.predict(X_test)\n"
   ]
  },
  {
   "cell_type": "code",
   "execution_count": 15,
   "id": "6716a467",
   "metadata": {},
   "outputs": [
    {
     "name": "stdout",
     "output_type": "stream",
     "text": [
      "              precision    recall  f1-score   support\n",
      "\n",
      "           0       0.63      0.89      0.74     29330\n",
      "           1       0.59      0.22      0.32     19973\n",
      "\n",
      "    accuracy                           0.62     49303\n",
      "   macro avg       0.61      0.56      0.53     49303\n",
      "weighted avg       0.61      0.62      0.57     49303\n",
      "\n",
      "              precision    recall  f1-score   support\n",
      "\n",
      "           0       0.63      0.89      0.74     12571\n",
      "           1       0.58      0.23      0.33      8560\n",
      "\n",
      "    accuracy                           0.62     21131\n",
      "   macro avg       0.61      0.56      0.53     21131\n",
      "weighted avg       0.61      0.62      0.57     21131\n",
      "\n"
     ]
    }
   ],
   "source": [
    "print(classification_report(y_train,predtrain_lr))\n",
    "print(classification_report(y_test,predtest_lr))"
   ]
  },
  {
   "cell_type": "code",
   "execution_count": 16,
   "id": "cdca26d0",
   "metadata": {
    "scrolled": true
   },
   "outputs": [
    {
     "name": "stdout",
     "output_type": "stream",
     "text": [
      "0.5586989162269848\n",
      "0.5583052002941052\n"
     ]
    }
   ],
   "source": [
    "print(roc_auc_score(y_train,predtrain_lr)),\n",
    "\n",
    "print(roc_auc_score(y_test,predtest_lr))"
   ]
  },
  {
   "cell_type": "code",
   "execution_count": 17,
   "id": "b0c1a3a7",
   "metadata": {
    "scrolled": true
   },
   "outputs": [
    {
     "data": {
      "text/plain": [
       "0.326914992012108"
      ]
     },
     "execution_count": 17,
     "metadata": {},
     "output_type": "execute_result"
    }
   ],
   "source": [
    "f1_score(y_test,predtest_lr)"
   ]
  },
  {
   "cell_type": "code",
   "execution_count": 18,
   "id": "dbdfaaf6",
   "metadata": {},
   "outputs": [
    {
     "data": {
      "text/plain": [
       "0.32342250654259963"
      ]
     },
     "execution_count": 18,
     "metadata": {},
     "output_type": "execute_result"
    }
   ],
   "source": [
    "f1_score(y_train,predtrain_lr)"
   ]
  },
  {
   "cell_type": "markdown",
   "id": "cbef0545",
   "metadata": {},
   "source": [
    "## Decision tree"
   ]
  },
  {
   "cell_type": "code",
   "execution_count": 19,
   "id": "c88cd5c8",
   "metadata": {},
   "outputs": [],
   "source": [
    "dt=DecisionTreeClassifier(random_state=10)"
   ]
  },
  {
   "cell_type": "code",
   "execution_count": 20,
   "id": "60b10a42",
   "metadata": {},
   "outputs": [],
   "source": [
    "modeldt=dt.fit(X_train,y_train)\n",
    "predtrain_dt=modeldt.predict(X_train)\n",
    "predtest_dt=modeldt.predict(X_test)"
   ]
  },
  {
   "cell_type": "code",
   "execution_count": 21,
   "id": "a6f5c199",
   "metadata": {},
   "outputs": [
    {
     "name": "stdout",
     "output_type": "stream",
     "text": [
      "              precision    recall  f1-score   support\n",
      "\n",
      "           0       1.00      1.00      1.00     29330\n",
      "           1       1.00      1.00      1.00     19973\n",
      "\n",
      "    accuracy                           1.00     49303\n",
      "   macro avg       1.00      1.00      1.00     49303\n",
      "weighted avg       1.00      1.00      1.00     49303\n",
      "\n",
      "              precision    recall  f1-score   support\n",
      "\n",
      "           0       0.62      0.60      0.61     12571\n",
      "           1       0.44      0.46      0.45      8560\n",
      "\n",
      "    accuracy                           0.54     21131\n",
      "   macro avg       0.53      0.53      0.53     21131\n",
      "weighted avg       0.55      0.54      0.55     21131\n",
      "\n"
     ]
    }
   ],
   "source": [
    "print(classification_report(y_train,predtrain_dt))\n",
    "print(classification_report(y_test,predtest_dt))"
   ]
  },
  {
   "cell_type": "code",
   "execution_count": 22,
   "id": "e0532248",
   "metadata": {},
   "outputs": [
    {
     "name": "stdout",
     "output_type": "stream",
     "text": [
      "0.999974966204376\n",
      "0.5309849912311158\n"
     ]
    }
   ],
   "source": [
    "print(roc_auc_score(y_train,predtrain_dt)),\n",
    "print(roc_auc_score(y_test,predtest_dt))"
   ]
  },
  {
   "cell_type": "code",
   "execution_count": 23,
   "id": "0feb140a",
   "metadata": {},
   "outputs": [],
   "source": [
    "## Gridsearch for Decision Tree"
   ]
  },
  {
   "cell_type": "code",
   "execution_count": 24,
   "id": "f4e5c1b0",
   "metadata": {},
   "outputs": [],
   "source": [
    "tunedparam=[{'criterion':['entropy','gini'],\n",
    "            'max_depth':range(1,10),\n",
    "             'min_samples_split': range(2,10),\n",
    "             'min_samples_leaf': range(1,10),\n",
    "             'max_leaf_nodes':range(1,10),\n",
    "             'max_features':[\"auto\", \"sqrt\", \"log2\"]          \n",
    "            }]"
   ]
  },
  {
   "cell_type": "code",
   "execution_count": 25,
   "id": "7bb41f75",
   "metadata": {},
   "outputs": [],
   "source": [
    "dttuned=DecisionTreeClassifier(random_state=10)\n",
    "\n",
    "dt_grid=GridSearchCV(estimator=dttuned,\n",
    "                    param_grid=tunedparam,\n",
    "                    cv=5)"
   ]
  },
  {
   "cell_type": "code",
   "execution_count": 26,
   "id": "f8bbdde8",
   "metadata": {},
   "outputs": [],
   "source": [
    "modeldt_grid=dt_grid.fit(X_train,y_train)"
   ]
  },
  {
   "cell_type": "code",
   "execution_count": 27,
   "id": "09fc33f9",
   "metadata": {},
   "outputs": [
    {
     "name": "stdout",
     "output_type": "stream",
     "text": [
      "Best parameters for random forest classifier:  {'criterion': 'entropy', 'max_depth': 4, 'max_features': 'log2', 'max_leaf_nodes': 9, 'min_samples_leaf': 1, 'min_samples_split': 2} \n",
      "\n"
     ]
    }
   ],
   "source": [
    "print('Best parameters for random forest classifier: ', modeldt_grid.best_params_, '\\n')"
   ]
  },
  {
   "cell_type": "code",
   "execution_count": 28,
   "id": "dd9d049e",
   "metadata": {},
   "outputs": [],
   "source": [
    "dtgrid=DecisionTreeClassifier(random_state=10,criterion='entropy',\n",
    "                           max_depth=4,\n",
    "                           min_samples_split=2,\n",
    "                           min_samples_leaf=1,\n",
    "                           max_leaf_nodes=9,\n",
    "                           max_features=\"log2\")"
   ]
  },
  {
   "cell_type": "code",
   "execution_count": 29,
   "id": "b67e526e",
   "metadata": {},
   "outputs": [],
   "source": [
    "modeldt_grid=dtgrid.fit(X_train,y_train)\n",
    "predtrain_dt_grid=modeldt_grid.predict(X_train)\n",
    "predtest_dt_grid=modeldt_grid.predict(X_test)"
   ]
  },
  {
   "cell_type": "code",
   "execution_count": 30,
   "id": "ea8173f4",
   "metadata": {},
   "outputs": [
    {
     "name": "stdout",
     "output_type": "stream",
     "text": [
      "              precision    recall  f1-score   support\n",
      "\n",
      "           0       0.62      0.91      0.74     29330\n",
      "           1       0.59      0.19      0.29     19973\n",
      "\n",
      "    accuracy                           0.62     49303\n",
      "   macro avg       0.61      0.55      0.51     49303\n",
      "weighted avg       0.61      0.62      0.56     49303\n",
      "\n",
      "              precision    recall  f1-score   support\n",
      "\n",
      "           0       0.62      0.90      0.74     12571\n",
      "           1       0.58      0.20      0.29      8560\n",
      "\n",
      "    accuracy                           0.62     21131\n",
      "   macro avg       0.60      0.55      0.52     21131\n",
      "weighted avg       0.61      0.62      0.56     21131\n",
      "\n"
     ]
    }
   ],
   "source": [
    "print(classification_report(y_train,predtrain_dt_grid))\n",
    "print(classification_report(y_test,predtest_dt_grid))"
   ]
  },
  {
   "cell_type": "code",
   "execution_count": 31,
   "id": "81ae393b",
   "metadata": {},
   "outputs": [
    {
     "name": "stdout",
     "output_type": "stream",
     "text": [
      "0.5505831244153696\n",
      "0.550364667009145\n"
     ]
    }
   ],
   "source": [
    "print(roc_auc_score(y_train,predtrain_dt_grid)),\n",
    "print(roc_auc_score(y_test,predtest_dt_grid))"
   ]
  },
  {
   "cell_type": "code",
   "execution_count": 32,
   "id": "fa7461c1",
   "metadata": {},
   "outputs": [
    {
     "name": "stdout",
     "output_type": "stream",
     "text": [
      "0.28729743064252916\n",
      "0.2934592514865338\n"
     ]
    }
   ],
   "source": [
    "print(f1_score(y_train,predtrain_dt_grid)),\n",
    "print(f1_score(y_test,predtest_dt_grid))"
   ]
  },
  {
   "cell_type": "markdown",
   "id": "15d85668",
   "metadata": {},
   "source": [
    "# Random Forest"
   ]
  },
  {
   "cell_type": "code",
   "execution_count": 33,
   "id": "f7119c85",
   "metadata": {},
   "outputs": [],
   "source": [
    "rf=RandomForestClassifier(random_state=10)\n",
    "\n",
    "modelrf=rf.fit(X_train,y_train)\n",
    "\n",
    "predtrain_rf=modelrf.predict(X_train)\n",
    "predtest_rf=modelrf.predict(X_test)"
   ]
  },
  {
   "cell_type": "code",
   "execution_count": 34,
   "id": "c0be7dfc",
   "metadata": {},
   "outputs": [
    {
     "name": "stdout",
     "output_type": "stream",
     "text": [
      "              precision    recall  f1-score   support\n",
      "\n",
      "           0       1.00      1.00      1.00     29330\n",
      "           1       1.00      1.00      1.00     19973\n",
      "\n",
      "    accuracy                           1.00     49303\n",
      "   macro avg       1.00      1.00      1.00     49303\n",
      "weighted avg       1.00      1.00      1.00     49303\n",
      "\n",
      "              precision    recall  f1-score   support\n",
      "\n",
      "           0       0.64      0.83      0.72     12571\n",
      "           1       0.56      0.32      0.41      8560\n",
      "\n",
      "    accuracy                           0.62     21131\n",
      "   macro avg       0.60      0.58      0.57     21131\n",
      "weighted avg       0.61      0.62      0.60     21131\n",
      "\n"
     ]
    }
   ],
   "source": [
    "print(classification_report(y_train,predtrain_rf))\n",
    "print(classification_report(y_test,predtest_rf))"
   ]
  },
  {
   "cell_type": "code",
   "execution_count": 35,
   "id": "b20c8092",
   "metadata": {},
   "outputs": [
    {
     "name": "stdout",
     "output_type": "stream",
     "text": [
      "0.9999829526082509\n",
      "0.5750170155014843\n"
     ]
    }
   ],
   "source": [
    "print(roc_auc_score(y_train,predtrain_rf)),\n",
    "print(roc_auc_score(y_test,predtest_rf))"
   ]
  },
  {
   "cell_type": "code",
   "execution_count": 36,
   "id": "275085ab",
   "metadata": {},
   "outputs": [
    {
     "name": "stdout",
     "output_type": "stream",
     "text": [
      "0.9999749668310511\n",
      "0.4097170789512665\n"
     ]
    }
   ],
   "source": [
    "print(f1_score(y_train,predtrain_rf)),\n",
    "print(f1_score(y_test,predtest_rf))"
   ]
  },
  {
   "cell_type": "code",
   "execution_count": 37,
   "id": "b33b4cad",
   "metadata": {},
   "outputs": [
    {
     "data": {
      "text/plain": [
       "array([0.0227088 , 0.03172586, 0.02343446, 0.02150915, 0.06920258,\n",
       "       0.11715758, 0.04882185, 0.10013119, 0.01780438, 0.0114045 ,\n",
       "       0.02305134, 0.06875397, 0.06974244, 0.06871085, 0.05029044,\n",
       "       0.00658975, 0.022461  , 0.01620224, 0.00858091, 0.01416647,\n",
       "       0.01365678, 0.01023979, 0.0089078 , 0.03088552, 0.0150054 ,\n",
       "       0.00886433, 0.00158002, 0.0154421 , 0.00367015, 0.0053017 ,\n",
       "       0.0012585 , 0.00272494, 0.00525194, 0.00934668, 0.01234216,\n",
       "       0.01415477, 0.01243386, 0.01160029, 0.00488352])"
      ]
     },
     "execution_count": 37,
     "metadata": {},
     "output_type": "execute_result"
    }
   ],
   "source": [
    "modelrf.feature_importances_"
   ]
  },
  {
   "cell_type": "markdown",
   "id": "2c676831",
   "metadata": {},
   "source": [
    "## Gridsearch for Random Forest"
   ]
  },
  {
   "cell_type": "code",
   "execution_count": 38,
   "id": "911e8080",
   "metadata": {},
   "outputs": [],
   "source": [
    "tuned_grid =  [{\n",
    "    'n_estimators': range(50, 150, 50),\n",
    "    'max_depth': range(5, 15, 5),\n",
    "    'min_samples_leaf': range(50, 150, 50),\n",
    "    'min_samples_split': range(50, 150, 50),\n",
    "    'criterion': [\"entropy\", \"gini\"],\n",
    "    'max_features': ['sqrt', 'log2'],\n",
    "    'max_leaf_nodes': range(50, 150, 50)\n",
    "}]"
   ]
  },
  {
   "cell_type": "code",
   "execution_count": 39,
   "id": "11266793",
   "metadata": {},
   "outputs": [],
   "source": [
    "rftuned = RandomForestClassifier(random_state = 10)\n",
    "rf_grid = GridSearchCV(estimator = rftuned, \n",
    "                       param_grid = tuned_grid, \n",
    "                       cv = 5)\n",
    "\n",
    "rf_grid_model = rf_grid.fit(X_train, y_train)"
   ]
  },
  {
   "cell_type": "code",
   "execution_count": 40,
   "id": "409fa055",
   "metadata": {},
   "outputs": [
    {
     "name": "stdout",
     "output_type": "stream",
     "text": [
      "Best parameters for random forest classifier:  {'criterion': 'entropy', 'max_depth': 10, 'max_features': 'sqrt', 'max_leaf_nodes': 100, 'min_samples_leaf': 50, 'min_samples_split': 50, 'n_estimators': 50} \n",
      "\n"
     ]
    }
   ],
   "source": [
    "print('Best parameters for random forest classifier: ', rf_grid_model.best_params_, '\\n')"
   ]
  },
  {
   "cell_type": "code",
   "execution_count": 41,
   "id": "47f18cbe",
   "metadata": {},
   "outputs": [],
   "source": [
    "rf_grid=RandomForestClassifier(random_state=10,\n",
    "                               criterion='entropy',\n",
    "                               max_depth=10,\n",
    "                               max_features='sqrt',\n",
    "                               max_leaf_nodes=100,\n",
    "                               min_samples_leaf=50,\n",
    "                               min_samples_split=50,\n",
    "                               n_estimators=50)\n",
    "\n",
    "modelrf_grid=rf_grid.fit(X_train,y_train)\n",
    "predtrain_rf_grid=modelrf_grid.predict(X_train)\n",
    "predtest_rf_grid=modelrf_grid.predict(X_test)"
   ]
  },
  {
   "cell_type": "code",
   "execution_count": 42,
   "id": "08f50ff8",
   "metadata": {},
   "outputs": [
    {
     "name": "stdout",
     "output_type": "stream",
     "text": [
      "              precision    recall  f1-score   support\n",
      "\n",
      "           0       0.63      0.91      0.75     29330\n",
      "           1       0.64      0.23      0.34     19973\n",
      "\n",
      "    accuracy                           0.64     49303\n",
      "   macro avg       0.64      0.57      0.54     49303\n",
      "weighted avg       0.64      0.64      0.58     49303\n",
      "\n",
      "              precision    recall  f1-score   support\n",
      "\n",
      "           0       0.63      0.90      0.74     12571\n",
      "           1       0.61      0.22      0.33      8560\n",
      "\n",
      "    accuracy                           0.63     21131\n",
      "   macro avg       0.62      0.56      0.53     21131\n",
      "weighted avg       0.62      0.63      0.57     21131\n",
      "\n"
     ]
    }
   ],
   "source": [
    "print(classification_report(y_train,predtrain_rf_grid))\n",
    "print(classification_report(y_test,predtest_rf_grid))"
   ]
  },
  {
   "cell_type": "code",
   "execution_count": 43,
   "id": "67c9b0a8",
   "metadata": {},
   "outputs": [
    {
     "name": "stdout",
     "output_type": "stream",
     "text": [
      "0.5704335313976289\n",
      "0.5621150974613726\n"
     ]
    }
   ],
   "source": [
    "print(roc_auc_score(y_train,predtrain_rf_grid)),\n",
    "print(roc_auc_score(y_test,predtest_rf_grid))"
   ]
  },
  {
   "cell_type": "code",
   "execution_count": 44,
   "id": "fa9838a8",
   "metadata": {},
   "outputs": [
    {
     "name": "stdout",
     "output_type": "stream",
     "text": [
      "0.3353926972735008\n",
      "0.32541039671682626\n"
     ]
    }
   ],
   "source": [
    "print(f1_score(y_train,predtrain_rf_grid)),\n",
    "print(f1_score(y_test,predtest_rf_grid))"
   ]
  },
  {
   "cell_type": "markdown",
   "id": "73d4223a",
   "metadata": {},
   "source": [
    "## Ada Boost"
   ]
  },
  {
   "cell_type": "code",
   "execution_count": 45,
   "id": "0cb793b4",
   "metadata": {},
   "outputs": [],
   "source": [
    "ada_model = AdaBoostClassifier(n_estimators = 40, random_state = 10)\n",
    "ada_model.fit(X_train, y_train)\n",
    "predtrain_ada=ada_model.predict(X_train)\n",
    "predtest_ada=ada_model.predict(X_test)"
   ]
  },
  {
   "cell_type": "code",
   "execution_count": 46,
   "id": "9ae91163",
   "metadata": {},
   "outputs": [
    {
     "name": "stdout",
     "output_type": "stream",
     "text": [
      "              precision    recall  f1-score   support\n",
      "\n",
      "           0       0.64      0.87      0.74     29330\n",
      "           1       0.59      0.27      0.37     19973\n",
      "\n",
      "    accuracy                           0.63     49303\n",
      "   macro avg       0.61      0.57      0.55     49303\n",
      "weighted avg       0.62      0.63      0.59     49303\n",
      "\n",
      "              precision    recall  f1-score   support\n",
      "\n",
      "           0       0.64      0.87      0.74     12571\n",
      "           1       0.59      0.27      0.37      8560\n",
      "\n",
      "    accuracy                           0.63     21131\n",
      "   macro avg       0.61      0.57      0.55     21131\n",
      "weighted avg       0.62      0.63      0.59     21131\n",
      "\n"
     ]
    }
   ],
   "source": [
    "print(classification_report(y_train,predtrain_ada))\n",
    "print(classification_report(y_test,predtest_ada))"
   ]
  },
  {
   "cell_type": "code",
   "execution_count": 47,
   "id": "264e58a0",
   "metadata": {},
   "outputs": [
    {
     "name": "stdout",
     "output_type": "stream",
     "text": [
      "0.5708165996819881\n",
      "0.5709259072022315\n"
     ]
    }
   ],
   "source": [
    "print(roc_auc_score(y_train,predtrain_ada)),\n",
    "print(roc_auc_score(y_test,predtest_ada))"
   ]
  },
  {
   "cell_type": "code",
   "execution_count": 48,
   "id": "c98a51ac",
   "metadata": {},
   "outputs": [
    {
     "name": "stdout",
     "output_type": "stream",
     "text": [
      "0.36838113623827906\n",
      "0.3707379542180247\n"
     ]
    }
   ],
   "source": [
    "print(f1_score(y_train,predtrain_ada)),\n",
    "print(f1_score(y_test,predtest_ada))"
   ]
  },
  {
   "cell_type": "code",
   "execution_count": 49,
   "id": "27c45944",
   "metadata": {},
   "outputs": [
    {
     "data": {
      "text/plain": [
       "<AxesSubplot:>"
      ]
     },
     "execution_count": 49,
     "metadata": {},
     "output_type": "execute_result"
    },
    {
     "data": {
      "image/png": "[encoded data removed]",
      "text/plain": [
       "<Figure size 1080x576 with 1 Axes>"
      ]
     },
     "metadata": {
      "needs_background": "light"
     },
     "output_type": "display_data"
    }
   ],
   "source": [
    "pd.DataFrame(ada_model.feature_importances_,index=X_train.columns).sort_values(0,ascending=False).head(15).plot(kind='bar')"
   ]
  },
  {
   "cell_type": "markdown",
   "id": "1633b846",
   "metadata": {},
   "source": [
    "# ADA boost with random forest "
   ]
  },
  {
   "cell_type": "code",
   "execution_count": 39,
   "id": "ef2c4973",
   "metadata": {},
   "outputs": [],
   "source": [
    "ada_model = AdaBoostClassifier(n_estimators = 40, random_state = 10,base_estimator=modelrf_grid)\n",
    "ada_model.fit(X_train, y_train)\n",
    "predtrain_ada=ada_model.predict(X_train)\n",
    "predtest_ada=ada_model.predict(X_test)"
   ]
  },
  {
   "cell_type": "code",
   "execution_count": 40,
   "id": "3cdafc76",
   "metadata": {},
   "outputs": [
    {
     "name": "stdout",
     "output_type": "stream",
     "text": [
      "              precision    recall  f1-score   support\n",
      "\n",
      "           0       0.77      0.91      0.83     29330\n",
      "           1       0.82      0.60      0.69     19973\n",
      "\n",
      "    accuracy                           0.78     49303\n",
      "   macro avg       0.80      0.75      0.76     49303\n",
      "weighted avg       0.79      0.78      0.78     49303\n",
      "\n",
      "              precision    recall  f1-score   support\n",
      "\n",
      "           0       0.65      0.79      0.72     12571\n",
      "           1       0.56      0.38      0.45      8560\n",
      "\n",
      "    accuracy                           0.63     21131\n",
      "   macro avg       0.61      0.59      0.58     21131\n",
      "weighted avg       0.61      0.63      0.61     21131\n",
      "\n"
     ]
    }
   ],
   "source": [
    "print(classification_report(y_train,predtrain_ada))\n",
    "print(classification_report(y_test,predtest_ada))"
   ]
  },
  {
   "cell_type": "code",
   "execution_count": 41,
   "id": "f61d4fa8",
   "metadata": {},
   "outputs": [
    {
     "name": "stdout",
     "output_type": "stream",
     "text": [
      "0.7546822671909499\n",
      "0.5876106936897488\n"
     ]
    }
   ],
   "source": [
    "print(roc_auc_score(y_train,predtrain_ada)),\n",
    "print(roc_auc_score(y_test,predtest_ada))"
   ]
  },
  {
   "cell_type": "code",
   "execution_count": 42,
   "id": "b71782e1",
   "metadata": {},
   "outputs": [
    {
     "name": "stdout",
     "output_type": "stream",
     "text": [
      "0.6916344392428251\n",
      "0.4532982261640799\n"
     ]
    }
   ],
   "source": [
    "print(f1_score(y_train,predtrain_ada)),\n",
    "print(f1_score(y_test,predtest_ada))"
   ]
  },
  {
   "cell_type": "markdown",
   "id": "cd29ac79",
   "metadata": {},
   "source": [
    "# ADA boost with desicion tree "
   ]
  },
  {
   "cell_type": "code",
   "execution_count": 52,
   "id": "5d45787b",
   "metadata": {},
   "outputs": [],
   "source": [
    "ada_model = AdaBoostClassifier(n_estimators = 40, random_state = 10,base_estimator=modeldt_grid)\n",
    "ada_model.fit(X_train, y_train)\n",
    "predtrain_ada=ada_model.predict(X_train)\n",
    "predtest_ada=ada_model.predict(X_test)"
   ]
  },
  {
   "cell_type": "code",
   "execution_count": 53,
   "id": "5e155c75",
   "metadata": {},
   "outputs": [
    {
     "name": "stdout",
     "output_type": "stream",
     "text": [
      "              precision    recall  f1-score   support\n",
      "\n",
      "           0       0.66      0.84      0.74     29330\n",
      "           1       0.60      0.36      0.45     19973\n",
      "\n",
      "    accuracy                           0.64     49303\n",
      "   macro avg       0.63      0.60      0.59     49303\n",
      "weighted avg       0.63      0.64      0.62     49303\n",
      "\n",
      "              precision    recall  f1-score   support\n",
      "\n",
      "           0       0.65      0.82      0.72     12571\n",
      "           1       0.57      0.34      0.43      8560\n",
      "\n",
      "    accuracy                           0.63     21131\n",
      "   macro avg       0.61      0.58      0.58     21131\n",
      "weighted avg       0.61      0.63      0.60     21131\n",
      "\n"
     ]
    }
   ],
   "source": [
    "print(classification_report(y_train,predtrain_ada))\n",
    "print(classification_report(y_test,predtest_ada))"
   ]
  },
  {
   "cell_type": "code",
   "execution_count": 54,
   "id": "6f833a42",
   "metadata": {},
   "outputs": [
    {
     "name": "stdout",
     "output_type": "stream",
     "text": [
      "0.5973364630386035\n",
      "0.5824734294255358\n"
     ]
    }
   ],
   "source": [
    "print(roc_auc_score(y_train,predtrain_ada)),\n",
    "print(roc_auc_score(y_test,predtest_ada))"
   ]
  },
  {
   "cell_type": "code",
   "execution_count": 55,
   "id": "1fcd59db",
   "metadata": {},
   "outputs": [
    {
     "name": "stdout",
     "output_type": "stream",
     "text": [
      "0.4466605845156825\n",
      "0.42795839697432536\n"
     ]
    }
   ],
   "source": [
    "print(f1_score(y_train,predtrain_ada)),\n",
    "print(f1_score(y_test,predtest_ada))"
   ]
  },
  {
   "cell_type": "code",
   "execution_count": null,
   "id": "06862999",
   "metadata": {},
   "outputs": [],
   "source": []
  },
  {
   "cell_type": "code",
   "execution_count": null,
   "id": "8dd84cd6",
   "metadata": {},
   "outputs": [],
   "source": []
  },
  {
   "cell_type": "raw",
   "id": "d71bf6d1",
   "metadata": {},
   "source": [
    "abc = AdaBoostClassifier(random_state=10)"
   ]
  },
  {
   "cell_type": "raw",
   "id": "69d819dc",
   "metadata": {},
   "source": [
    "parameters = {'base_estimator__max_depth':[i for i in range(2,11,2)],\n",
    "              'base_estimator__min_samples_leaf':[5,10],\n",
    "              'n_estimators':[10,50,250,1000],\n",
    "              'learning_rate':[0.01,0.1],\n",
    "             'base_estimator':[DecisionTreeClassifier(),RandomForestClassifier()]}"
   ]
  },
  {
   "cell_type": "raw",
   "id": "55ec5732",
   "metadata": {},
   "source": [
    "ada_grid = GridSearchCV(abc, parameters,scoring='roc_auc',n_jobs=-1)\n",
    "ada_model_grid=ada_grid.fit(X_train,y_train)"
   ]
  },
  {
   "cell_type": "raw",
   "id": "a34f1847",
   "metadata": {},
   "source": [
    "print('Best parameters for Adaboost classifier: ', ada_model_grid.best_params_, '\\n')"
   ]
  },
  {
   "cell_type": "raw",
   "id": "867238b6",
   "metadata": {},
   "source": [
    "X_train.columns"
   ]
  },
  {
   "cell_type": "code",
   "execution_count": null,
   "id": "4ab67493",
   "metadata": {},
   "outputs": [],
   "source": [
    "## XGBoost"
   ]
  },
  {
   "cell_type": "code",
   "execution_count": 50,
   "id": "c8d55f16",
   "metadata": {},
   "outputs": [],
   "source": [
    "xgb = XGBClassifier(max_depth = 10, gamma = 1)\n",
    "\n",
    "\n",
    "\n",
    "xgb_model=xgb.fit(X_train,y_train)\n",
    "predtrain_xgb=xgb_model.predict(X_train)\n",
    "predtest_xgb=xgb_model.predict(X_test)"
   ]
  },
  {
   "cell_type": "code",
   "execution_count": 51,
   "id": "fbd5d105",
   "metadata": {},
   "outputs": [
    {
     "name": "stdout",
     "output_type": "stream",
     "text": [
      "              precision    recall  f1-score   support\n",
      "\n",
      "           0       0.89      0.97      0.93     29330\n",
      "           1       0.94      0.83      0.88     19973\n",
      "\n",
      "    accuracy                           0.91     49303\n",
      "   macro avg       0.92      0.90      0.91     49303\n",
      "weighted avg       0.91      0.91      0.91     49303\n",
      "\n",
      "              precision    recall  f1-score   support\n",
      "\n",
      "           0       0.65      0.75      0.70     12571\n",
      "           1       0.53      0.40      0.46      8560\n",
      "\n",
      "    accuracy                           0.61     21131\n",
      "   macro avg       0.59      0.58      0.58     21131\n",
      "weighted avg       0.60      0.61      0.60     21131\n",
      "\n"
     ]
    }
   ],
   "source": [
    "print(classification_report(y_train,predtrain_xgb))\n",
    "print(classification_report(y_test,predtest_xgb))"
   ]
  },
  {
   "cell_type": "code",
   "execution_count": 52,
   "id": "d0aa435f",
   "metadata": {},
   "outputs": [
    {
     "name": "stdout",
     "output_type": "stream",
     "text": [
      "0.8974999790460386\n",
      "0.5780413001813252\n"
     ]
    }
   ],
   "source": [
    "print(roc_auc_score(y_train,predtrain_xgb)),\n",
    "print(roc_auc_score(y_test,predtest_xgb))"
   ]
  },
  {
   "cell_type": "code",
   "execution_count": 53,
   "id": "595e5059",
   "metadata": {},
   "outputs": [
    {
     "name": "stdout",
     "output_type": "stream",
     "text": [
      "0.882373305637666\n",
      "0.4564584436209635\n"
     ]
    }
   ],
   "source": [
    "print(f1_score(y_train,predtrain_xgb)),\n",
    "print(f1_score(y_test,predtest_xgb))"
   ]
  },
  {
   "cell_type": "code",
   "execution_count": null,
   "id": "c3c4f568",
   "metadata": {},
   "outputs": [],
   "source": [
    "xgb_model.predict(X_train)"
   ]
  },
  {
   "cell_type": "code",
   "execution_count": null,
   "id": "54c1fa23",
   "metadata": {},
   "outputs": [],
   "source": [
    "## GridSearch for XGBoost"
   ]
  },
  {
   "cell_type": "code",
   "execution_count": 54,
   "id": "9cb20d8a",
   "metadata": {},
   "outputs": [
    {
     "data": {
      "text/html": [
       "<style>#sk-container-id-1 {color: black;background-color: white;}#sk-container-id-1 pre{padding: 0;}#sk-container-id-1 div.sk-toggleable {background-color: white;}#sk-container-id-1 label.sk-toggleable__label {cursor: pointer;display: block;width: 100%;margin-bottom: 0;padding: 0.3em;box-sizing: border-box;text-align: center;}#sk-container-id-1 label.sk-toggleable__label-arrow:before {content: \"▸\";float: left;margin-right: 0.25em;color: #696969;}#sk-container-id-1 label.sk-toggleable__label-arrow:hover:before {color: black;}#sk-container-id-1 div.sk-estimator:hover label.sk-toggleable__label-arrow:before {color: black;}#sk-container-id-1 div.sk-toggleable__content {max-height: 0;max-width: 0;overflow: hidden;text-align: left;background-color: #f0f8ff;}#sk-container-id-1 div.sk-toggleable__content pre {margin: 0.2em;color: black;border-radius: 0.25em;background-color: #f0f8ff;}#sk-container-id-1 input.sk-toggleable__control:checked~div.sk-toggleable__content {max-height: 200px;max-width: 100%;overflow: auto;}#sk-container-id-1 input.sk-toggleable__control:checked~label.sk-toggleable__label-arrow:before {content: \"▾\";}#sk-container-id-1 div.sk-estimator input.sk-toggleable__control:checked~label.sk-toggleable__label {background-color: #d4ebff;}#sk-container-id-1 div.sk-label input.sk-toggleable__control:checked~label.sk-toggleable__label {background-color: #d4ebff;}#sk-container-id-1 input.sk-hidden--visually {border: 0;clip: rect(1px 1px 1px 1px);clip: rect(1px, 1px, 1px, 1px);height: 1px;margin: -1px;overflow: hidden;padding: 0;position: absolute;width: 1px;}#sk-container-id-1 div.sk-estimator {font-family: monospace;background-color: #f0f8ff;border: 1px dotted black;border-radius: 0.25em;box-sizing: border-box;margin-bottom: 0.5em;}#sk-container-id-1 div.sk-estimator:hover {background-color: #d4ebff;}#sk-container-id-1 div.sk-parallel-item::after {content: \"\";width: 100%;border-bottom: 1px solid gray;flex-grow: 1;}#sk-container-id-1 div.sk-label:hover label.sk-toggleable__label {background-color: #d4ebff;}#sk-container-id-1 div.sk-serial::before {content: \"\";position: absolute;border-left: 1px solid gray;box-sizing: border-box;top: 0;bottom: 0;left: 50%;z-index: 0;}#sk-container-id-1 div.sk-serial {display: flex;flex-direction: column;align-items: center;background-color: white;padding-right: 0.2em;padding-left: 0.2em;position: relative;}#sk-container-id-1 div.sk-item {position: relative;z-index: 1;}#sk-container-id-1 div.sk-parallel {display: flex;align-items: stretch;justify-content: center;background-color: white;position: relative;}#sk-container-id-1 div.sk-item::before, #sk-container-id-1 div.sk-parallel-item::before {content: \"\";position: absolute;border-left: 1px solid gray;box-sizing: border-box;top: 0;bottom: 0;left: 50%;z-index: -1;}#sk-container-id-1 div.sk-parallel-item {display: flex;flex-direction: column;z-index: 1;position: relative;background-color: white;}#sk-container-id-1 div.sk-parallel-item:first-child::after {align-self: flex-end;width: 50%;}#sk-container-id-1 div.sk-parallel-item:last-child::after {align-self: flex-start;width: 50%;}#sk-container-id-1 div.sk-parallel-item:only-child::after {width: 0;}#sk-container-id-1 div.sk-dashed-wrapped {border: 1px dashed gray;margin: 0 0.4em 0.5em 0.4em;box-sizing: border-box;padding-bottom: 0.4em;background-color: white;}#sk-container-id-1 div.sk-label label {font-family: monospace;font-weight: bold;display: inline-block;line-height: 1.2em;}#sk-container-id-1 div.sk-label-container {text-align: center;}#sk-container-id-1 div.sk-container {/* jupyter's `normalize.less` sets `[hidden] { display: none; }` but bootstrap.min.css set `[hidden] { display: none !important; }` so we also need the `!important` here to be able to override the default hidden behavior on the sphinx rendered scikit-learn.org. See: https://github.com/scikit-learn/scikit-learn/issues/21755 */display: inline-block !important;position: relative;}#sk-container-id-1 div.sk-text-repr-fallback {display: none;}</style><div id=\"sk-container-id-1\" class=\"sk-top-container\"><div class=\"sk-text-repr-fallback\"><pre>GridSearchCV(cv=3,\n",
       "             estimator=XGBClassifier(base_score=None, booster=None,\n",
       "                                     callbacks=None, colsample_bylevel=None,\n",
       "                                     colsample_bynode=None,\n",
       "                                     colsample_bytree=None,\n",
       "                                     early_stopping_rounds=None,\n",
       "                                     enable_categorical=False, eval_metric=None,\n",
       "                                     gamma=None, gpu_id=None, grow_policy=None,\n",
       "                                     importance_type=None,\n",
       "                                     interaction_constraints=None,\n",
       "                                     learning_rate=None, max_bin=None,\n",
       "                                     max_ca...,\n",
       "                                     max_delta_step=None, max_depth=None,\n",
       "                                     max_leaves=None, min_child_weight=None,\n",
       "                                     missing=nan, monotone_constraints=None,\n",
       "                                     n_estimators=100, n_jobs=None,\n",
       "                                     num_parallel_tree=None, predictor=None,\n",
       "                                     random_state=None, reg_alpha=None,\n",
       "                                     reg_lambda=None, ...),\n",
       "             param_grid={&#x27;gamma&#x27;: [0, 1, 2, 3, 4],\n",
       "                         &#x27;learning_rate&#x27;: [0.1, 0.2, 0.3, 0.4, 0.5, 0.6],\n",
       "                         &#x27;max_depth&#x27;: range(3, 10)},\n",
       "             scoring=&#x27;roc_auc&#x27;)</pre><b>In a Jupyter environment, please rerun this cell to show the HTML representation or trust the notebook. <br />On GitHub, the HTML representation is unable to render, please try loading this page with nbviewer.org.</b></div><div class=\"sk-container\" hidden><div class=\"sk-item sk-dashed-wrapped\"><div class=\"sk-label-container\"><div class=\"sk-label sk-toggleable\"><input class=\"sk-toggleable__control sk-hidden--visually\" id=\"sk-estimator-id-1\" type=\"checkbox\" ><label for=\"sk-estimator-id-1\" class=\"sk-toggleable__label sk-toggleable__label-arrow\">GridSearchCV</label><div class=\"sk-toggleable__content\"><pre>GridSearchCV(cv=3,\n",
       "             estimator=XGBClassifier(base_score=None, booster=None,\n",
       "                                     callbacks=None, colsample_bylevel=None,\n",
       "                                     colsample_bynode=None,\n",
       "                                     colsample_bytree=None,\n",
       "                                     early_stopping_rounds=None,\n",
       "                                     enable_categorical=False, eval_metric=None,\n",
       "                                     gamma=None, gpu_id=None, grow_policy=None,\n",
       "                                     importance_type=None,\n",
       "                                     interaction_constraints=None,\n",
       "                                     learning_rate=None, max_bin=None,\n",
       "                                     max_ca...,\n",
       "                                     max_delta_step=None, max_depth=None,\n",
       "                                     max_leaves=None, min_child_weight=None,\n",
       "                                     missing=nan, monotone_constraints=None,\n",
       "                                     n_estimators=100, n_jobs=None,\n",
       "                                     num_parallel_tree=None, predictor=None,\n",
       "                                     random_state=None, reg_alpha=None,\n",
       "                                     reg_lambda=None, ...),\n",
       "             param_grid={&#x27;gamma&#x27;: [0, 1, 2, 3, 4],\n",
       "                         &#x27;learning_rate&#x27;: [0.1, 0.2, 0.3, 0.4, 0.5, 0.6],\n",
       "                         &#x27;max_depth&#x27;: range(3, 10)},\n",
       "             scoring=&#x27;roc_auc&#x27;)</pre></div></div></div><div class=\"sk-parallel\"><div class=\"sk-parallel-item\"><div class=\"sk-item\"><div class=\"sk-label-container\"><div class=\"sk-label sk-toggleable\"><input class=\"sk-toggleable__control sk-hidden--visually\" id=\"sk-estimator-id-2\" type=\"checkbox\" ><label for=\"sk-estimator-id-2\" class=\"sk-toggleable__label sk-toggleable__label-arrow\">estimator: XGBClassifier</label><div class=\"sk-toggleable__content\"><pre>XGBClassifier(base_score=None, booster=None, callbacks=None,\n",
       "              colsample_bylevel=None, colsample_bynode=None,\n",
       "              colsample_bytree=None, early_stopping_rounds=None,\n",
       "              enable_categorical=False, eval_metric=None, gamma=None,\n",
       "              gpu_id=None, grow_policy=None, importance_type=None,\n",
       "              interaction_constraints=None, learning_rate=None, max_bin=None,\n",
       "              max_cat_to_onehot=None, max_delta_step=None, max_depth=None,\n",
       "              max_leaves=None, min_child_weight=None, missing=nan,\n",
       "              monotone_constraints=None, n_estimators=100, n_jobs=None,\n",
       "              num_parallel_tree=None, predictor=None, random_state=None,\n",
       "              reg_alpha=None, reg_lambda=None, ...)</pre></div></div></div><div class=\"sk-serial\"><div class=\"sk-item\"><div class=\"sk-estimator sk-toggleable\"><input class=\"sk-toggleable__control sk-hidden--visually\" id=\"sk-estimator-id-3\" type=\"checkbox\" ><label for=\"sk-estimator-id-3\" class=\"sk-toggleable__label sk-toggleable__label-arrow\">XGBClassifier</label><div class=\"sk-toggleable__content\"><pre>XGBClassifier(base_score=None, booster=None, callbacks=None,\n",
       "              colsample_bylevel=None, colsample_bynode=None,\n",
       "              colsample_bytree=None, early_stopping_rounds=None,\n",
       "              enable_categorical=False, eval_metric=None, gamma=None,\n",
       "              gpu_id=None, grow_policy=None, importance_type=None,\n",
       "              interaction_constraints=None, learning_rate=None, max_bin=None,\n",
       "              max_cat_to_onehot=None, max_delta_step=None, max_depth=None,\n",
       "              max_leaves=None, min_child_weight=None, missing=nan,\n",
       "              monotone_constraints=None, n_estimators=100, n_jobs=None,\n",
       "              num_parallel_tree=None, predictor=None, random_state=None,\n",
       "              reg_alpha=None, reg_lambda=None, ...)</pre></div></div></div></div></div></div></div></div></div></div>"
      ],
      "text/plain": [
       "GridSearchCV(cv=3,\n",
       "             estimator=XGBClassifier(base_score=None, booster=None,\n",
       "                                     callbacks=None, colsample_bylevel=None,\n",
       "                                     colsample_bynode=None,\n",
       "                                     colsample_bytree=None,\n",
       "                                     early_stopping_rounds=None,\n",
       "                                     enable_categorical=False, eval_metric=None,\n",
       "                                     gamma=None, gpu_id=None, grow_policy=None,\n",
       "                                     importance_type=None,\n",
       "                                     interaction_constraints=None,\n",
       "                                     learning_rate=None, max_bin=None,\n",
       "                                     max_ca...,\n",
       "                                     max_delta_step=None, max_depth=None,\n",
       "                                     max_leaves=None, min_child_weight=None,\n",
       "                                     missing=nan, monotone_constraints=None,\n",
       "                                     n_estimators=100, n_jobs=None,\n",
       "                                     num_parallel_tree=None, predictor=None,\n",
       "                                     random_state=None, reg_alpha=None,\n",
       "                                     reg_lambda=None, ...),\n",
       "             param_grid={'gamma': [0, 1, 2, 3, 4],\n",
       "                         'learning_rate': [0.1, 0.2, 0.3, 0.4, 0.5, 0.6],\n",
       "                         'max_depth': range(3, 10)},\n",
       "             scoring='roc_auc')"
      ]
     },
     "execution_count": 54,
     "metadata": {},
     "output_type": "execute_result"
    }
   ],
   "source": [
    "tuning_parameters = {'learning_rate': [0.1, 0.2, 0.3, 0.4, 0.5, 0.6],\n",
    "                     'max_depth': range(3,10),\n",
    "                     'gamma': [0, 1, 2, 3, 4]}\n",
    "\n",
    " \n",
    "xgb_model = XGBClassifier()\n",
    "\n",
    "xgb_grid = GridSearchCV(estimator = xgb_model, param_grid = tuning_parameters, cv = 3, scoring = 'roc_auc')\n",
    "\n",
    "\n",
    "xgb_grid.fit(X_train, y_train)"
   ]
  },
  {
   "cell_type": "code",
   "execution_count": 55,
   "id": "18611aad",
   "metadata": {},
   "outputs": [
    {
     "name": "stdout",
     "output_type": "stream",
     "text": [
      "Best parameters for XGBoost classifier:  {'gamma': 0, 'learning_rate': 0.2, 'max_depth': 4} \n",
      "\n"
     ]
    }
   ],
   "source": [
    "print('Best parameters for XGBoost classifier: ', xgb_grid.best_params_, '\\n')"
   ]
  },
  {
   "cell_type": "code",
   "execution_count": 56,
   "id": "a775c753",
   "metadata": {},
   "outputs": [],
   "source": [
    "xgb_tuned = XGBClassifier(max_depth = 4, gamma = 0,learning_rate=0.2)\n",
    "\n",
    "xgb_model_grid=xgb_tuned.fit(X_train,y_train)\n",
    "predtrain_xgb_grid=xgb_model_grid.predict(X_train)\n",
    "predtest_xgb_grid=xgb_model_grid.predict(X_test)"
   ]
  },
  {
   "cell_type": "code",
   "execution_count": 57,
   "id": "f385186c",
   "metadata": {},
   "outputs": [
    {
     "name": "stdout",
     "output_type": "stream",
     "text": [
      "              precision    recall  f1-score   support\n",
      "\n",
      "           0       0.66      0.87      0.75     29330\n",
      "           1       0.65      0.34      0.45     19973\n",
      "\n",
      "    accuracy                           0.66     49303\n",
      "   macro avg       0.66      0.61      0.60     49303\n",
      "weighted avg       0.66      0.66      0.63     49303\n",
      "\n",
      "              precision    recall  f1-score   support\n",
      "\n",
      "           0       0.65      0.85      0.73     12571\n",
      "           1       0.59      0.31      0.41      8560\n",
      "\n",
      "    accuracy                           0.63     21131\n",
      "   macro avg       0.62      0.58      0.57     21131\n",
      "weighted avg       0.62      0.63      0.60     21131\n",
      "\n",
      "0.6078868883493911\n",
      "0.5823286164492227\n"
     ]
    }
   ],
   "source": [
    "print(classification_report(y_train,predtrain_xgb_grid))\n",
    "print(classification_report(y_test,predtest_xgb_grid))\n",
    "\n",
    "print(roc_auc_score(y_train,predtrain_xgb_grid)),\n",
    "print(roc_auc_score(y_test,predtest_xgb_grid))"
   ]
  },
  {
   "cell_type": "code",
   "execution_count": 58,
   "id": "114aa68f",
   "metadata": {},
   "outputs": [
    {
     "name": "stdout",
     "output_type": "stream",
     "text": [
      "0.447427146232607\n",
      "0.4086744043982895\n"
     ]
    }
   ],
   "source": [
    "print(f1_score(y_train,predtrain_xgb_grid)),\n",
    "print(f1_score(y_test,predtest_xgb_grid))"
   ]
  },
  {
   "cell_type": "code",
   "execution_count": 59,
   "id": "3621c052",
   "metadata": {},
   "outputs": [],
   "source": [
    "## Gradient Boosting"
   ]
  },
  {
   "cell_type": "code",
   "execution_count": 60,
   "id": "1be4e20e",
   "metadata": {},
   "outputs": [],
   "source": [
    "gboost_model = GradientBoostingClassifier(n_estimators = 150, max_depth = 10, random_state = 10)"
   ]
  },
  {
   "cell_type": "code",
   "execution_count": 61,
   "id": "8c5bc649",
   "metadata": {},
   "outputs": [],
   "source": [
    "gboost_model.fit(X_train, y_train)\n",
    "predtrain_gb=gboost_model.predict(X_train)\n",
    "predtest_gb=gboost_model.predict(X_test)"
   ]
  },
  {
   "cell_type": "code",
   "execution_count": 62,
   "id": "0c8ad55b",
   "metadata": {},
   "outputs": [
    {
     "name": "stdout",
     "output_type": "stream",
     "text": [
      "              precision    recall  f1-score   support\n",
      "\n",
      "           0       0.86      0.97      0.91     29330\n",
      "           1       0.95      0.77      0.85     19973\n",
      "\n",
      "    accuracy                           0.89     49303\n",
      "   macro avg       0.90      0.87      0.88     49303\n",
      "weighted avg       0.90      0.89      0.89     49303\n",
      "\n",
      "              precision    recall  f1-score   support\n",
      "\n",
      "           0       0.65      0.79      0.71     12571\n",
      "           1       0.54      0.38      0.45      8560\n",
      "\n",
      "    accuracy                           0.62     21131\n",
      "   macro avg       0.60      0.58      0.58     21131\n",
      "weighted avg       0.61      0.62      0.60     21131\n",
      "\n"
     ]
    }
   ],
   "source": [
    "print(classification_report(y_train,predtrain_gb))\n",
    "print(classification_report(y_test,predtest_gb))"
   ]
  },
  {
   "cell_type": "code",
   "execution_count": 63,
   "id": "43cc10cd",
   "metadata": {},
   "outputs": [
    {
     "name": "stdout",
     "output_type": "stream",
     "text": [
      "0.8698179475466103\n",
      "0.5810234178278593\n"
     ]
    }
   ],
   "source": [
    "print(roc_auc_score(y_train,predtrain_gb)),\n",
    "print(roc_auc_score(y_test,predtest_gb))"
   ]
  },
  {
   "cell_type": "code",
   "execution_count": 64,
   "id": "b06535a4",
   "metadata": {},
   "outputs": [
    {
     "name": "stdout",
     "output_type": "stream",
     "text": [
      "0.8487799479887126\n",
      "0.44544136931465245\n"
     ]
    }
   ],
   "source": [
    "print(f1_score(y_train,predtrain_gb)),\n",
    "print(f1_score(y_test,predtest_gb))"
   ]
  },
  {
   "cell_type": "code",
   "execution_count": null,
   "id": "f75bb704",
   "metadata": {},
   "outputs": [],
   "source": []
  },
  {
   "cell_type": "code",
   "execution_count": null,
   "id": "408aa23c",
   "metadata": {},
   "outputs": [],
   "source": [
    "## Grid Search for Gradient Boosting"
   ]
  },
  {
   "cell_type": "markdown",
   "id": "0382de76",
   "metadata": {},
   "source": [
    "# SMOTE"
   ]
  },
  {
   "cell_type": "code",
   "execution_count": 58,
   "id": "df5cc78c",
   "metadata": {},
   "outputs": [
    {
     "name": "stdout",
     "output_type": "stream",
     "text": [
      "After OverSampling, the shape of train_X: (58660, 39)\n",
      "After OverSampling, the shape of train_y: (58660,) \n",
      "\n",
      "After OverSampling, counts of label '1': 29330\n",
      "After OverSampling, counts of label '0': 29330\n"
     ]
    }
   ],
   "source": [
    "from imblearn.over_sampling import SMOTE\n",
    "\n",
    "sm = SMOTE(random_state = 10)\n",
    "X_train_res, y_train_res = sm.fit_resample(X_train, y_train.ravel())\n",
    "\n",
    "print('After OverSampling, the shape of train_X: {}'.format(X_train_res.shape))\n",
    "print('After OverSampling, the shape of train_y: {} \\n'.format(y_train_res.shape))\n",
    "  \n",
    "print(\"After OverSampling, counts of label '1': {}\".format(sum(y_train_res == 1)))\n",
    "print(\"After OverSampling, counts of label '0': {}\".format(sum(y_train_res == 0)))"
   ]
  },
  {
   "cell_type": "code",
   "execution_count": 59,
   "id": "d1a44ba0",
   "metadata": {},
   "outputs": [],
   "source": [
    "## Gradient Boost after SMOTE\n",
    "\n",
    "gboost_model_smote = GradientBoostingClassifier(n_estimators = 150, max_depth = 10, random_state = 10)\n",
    "\n",
    "gboost_model_smote=gboost_model_smote.fit(X_train_res, y_train_res)\n",
    "predtrain_gb_smote=gboost_model_smote.predict(X_train_res)\n",
    "predtest_gb_smote=gboost_model_smote.predict(X_test)"
   ]
  },
  {
   "cell_type": "code",
   "execution_count": 60,
   "id": "482dd2cc",
   "metadata": {},
   "outputs": [
    {
     "name": "stdout",
     "output_type": "stream",
     "text": [
      "              precision    recall  f1-score   support\n",
      "\n",
      "           0       0.88      0.94      0.91     29330\n",
      "           1       0.94      0.87      0.90     29330\n",
      "\n",
      "    accuracy                           0.91     58660\n",
      "   macro avg       0.91      0.91      0.91     58660\n",
      "weighted avg       0.91      0.91      0.91     58660\n",
      "\n",
      "              precision    recall  f1-score   support\n",
      "\n",
      "           0       0.65      0.75      0.70     12571\n",
      "           1       0.53      0.42      0.47      8560\n",
      "\n",
      "    accuracy                           0.62     21131\n",
      "   macro avg       0.59      0.58      0.58     21131\n",
      "weighted avg       0.61      0.62      0.61     21131\n",
      "\n",
      "0.9056256392771905\n",
      "0.5847558670489936\n"
     ]
    }
   ],
   "source": [
    "print(classification_report(y_train_res,predtrain_gb_smote))\n",
    "print(classification_report(y_test,predtest_gb_smote))\n",
    "\n",
    "print(roc_auc_score(y_train_res,predtrain_gb_smote)),\n",
    "print(roc_auc_score(y_test,predtest_gb_smote))"
   ]
  },
  {
   "cell_type": "code",
   "execution_count": 61,
   "id": "342832d4",
   "metadata": {},
   "outputs": [
    {
     "name": "stdout",
     "output_type": "stream",
     "text": [
      "0.9019621732662747\n",
      "0.4699888968715303\n"
     ]
    }
   ],
   "source": [
    "print(f1_score(y_train_res,predtrain_gb_smote)),\n",
    "print(f1_score(y_test,predtest_gb_smote))"
   ]
  },
  {
   "cell_type": "code",
   "execution_count": null,
   "id": "ff1230b4",
   "metadata": {},
   "outputs": [],
   "source": [
    "## XGBoost after SMOTE\n",
    "\n",
    "xgb = XGBClassifier(max_depth = 10, gamma = 1)\n",
    "\n",
    "\n",
    "\n",
    "xgb_model_smote=xgb.fit(X_train_res,y_train_res)\n",
    "predtrain_xgb_smote=xgb_model_smote.predict(X_train_res)\n",
    "predtest_xgb_smote=xgb_model_smote.predict(X_test)"
   ]
  },
  {
   "cell_type": "code",
   "execution_count": null,
   "id": "4e1e23d5",
   "metadata": {},
   "outputs": [],
   "source": [
    "print(classification_report(y_train_res,predtrain_xgb_smote))\n",
    "print(classification_report(y_test,predtest_xgb_smote))\n",
    "\n",
    "print(roc_auc_score(y_train_res,predtrain_xgb_smote)),\n",
    "print(roc_auc_score(y_test,predtest_xgb_smote))"
   ]
  },
  {
   "cell_type": "code",
   "execution_count": null,
   "id": "1287ab05",
   "metadata": {},
   "outputs": [],
   "source": [
    "print(f1_score(y_train_res,predtrain_xgb_smote)),\n",
    "print(f1_score(y_test,predtest_xgb_smote))"
   ]
  },
  {
   "cell_type": "code",
   "execution_count": null,
   "id": "3c14675d",
   "metadata": {},
   "outputs": [],
   "source": [
    "### Gradiant Boosting Model Tuning"
   ]
  },
  {
   "cell_type": "code",
   "execution_count": 65,
   "id": "9d52f1e5",
   "metadata": {},
   "outputs": [],
   "source": [
    "#define a list that has all feature names\n",
    "predictors = [x for x in X_train.columns]"
   ]
  },
  {
   "cell_type": "raw",
   "id": "50cc175e",
   "metadata": {},
   "source": [
    "Now, let's evaluate Baseline (default) GBM"
   ]
  },
  {
   "cell_type": "code",
   "execution_count": 66,
   "id": "8697631f",
   "metadata": {},
   "outputs": [
    {
     "name": "stdout",
     "output_type": "stream",
     "text": [
      "\n",
      "Gradient Boost [0] Performance:\n",
      "-----------------------------------\n",
      "F1 Score micro        :  0.6313473096398656\n",
      "F1 Score macro        :  0.5521728332074491\n",
      "classification report:\n",
      "                precision    recall  f1-score   support\n",
      "\n",
      "           0       0.64      0.88      0.74     12571\n",
      "           1       0.60      0.26      0.36      8560\n",
      "\n",
      "    accuracy                           0.63     21131\n",
      "   macro avg       0.62      0.57      0.55     21131\n",
      "weighted avg       0.62      0.63      0.59     21131\n",
      "\n",
      "ROC-AUC Score:\n",
      "  0.5721495735995248\n"
     ]
    }
   ],
   "source": [
    "gbm0 = GradientBoostingClassifier() \n",
    "gbm0.fit(X_train,y_train)\n",
    "gbm0_pred_test = gbm0.predict(X_test)\n",
    "\n",
    "print('\\nGradient Boost [0] Performance:')\n",
    "print('-----------------------------------')\n",
    "print('F1 Score micro        : ', f1_score(y_test, gbm0_pred_test,average='micro'))\n",
    "print('F1 Score macro        : ', f1_score(y_test, gbm0_pred_test,average='macro'))\n",
    "print('classification report:\\n ', classification_report(y_test, gbm0_pred_test))\n",
    "print('ROC-AUC Score:\\n ', roc_auc_score(y_test, gbm0_pred_test))"
   ]
  },
  {
   "cell_type": "code",
   "execution_count": 67,
   "id": "abe6a0f6",
   "metadata": {},
   "outputs": [
    {
     "data": {
      "text/plain": [
       "Text(0, 0.5, 'Feature Importance Score')"
      ]
     },
     "execution_count": 67,
     "metadata": {},
     "output_type": "execute_result"
    },
    {
     "data": {
      "image/png": "[encoded data removed]",
      "text/plain": [
       "<Figure size 864x432 with 1 Axes>"
      ]
     },
     "metadata": {
      "needs_background": "light"
     },
     "output_type": "display_data"
    }
   ],
   "source": [
    "feat_imp = pd.Series(gbm0.feature_importances_, predictors).sort_values(ascending=False)\n",
    "fig = plt.figure(figsize=(12, 6))\n",
    "feat_imp.plot(kind='bar', title='Feature Importances')\n",
    "plt.ylabel('Feature Importance Score')"
   ]
  },
  {
   "cell_type": "raw",
   "id": "fbb58dd7",
   "metadata": {},
   "source": [
    "HyperParameter tuning roadmap: \n",
    "\n",
    "1. Decide a relatively higher value for learning rate and tune the number of estimators requried for that. \n",
    "2. Tune the tree specific parameters (min_samples_split, min_samples_leaf, max_depth, max_features) for that learning rate \n",
    "3. Tune subsample, and lower learning rate as much as possible computationally and increase the number of estimators accordingly."
   ]
  },
  {
   "cell_type": "code",
   "execution_count": null,
   "id": "ea6dd709",
   "metadata": {},
   "outputs": [],
   "source": [
    "##### Step 1 - Find the number of estimators for a high learning rate"
   ]
  },
  {
   "cell_type": "raw",
   "id": "91d90a02",
   "metadata": {},
   "source": [
    "In order to decide on boosting parameters, we need to set some initial values of other parameters. Lets take the following values:\n",
    "\n",
    "1. min_samples_split = 400 : This should be ~0.5-1% of total values. Since this is imbalanced multi-class problem, we’ll take a small value from the range (our total sample points ~71k).\n",
    "2. min_samples_leaf = 50 : Can be selected based on intuition. This is just used for preventing overfitting and again a small value because of imbalanced classes.\n",
    "3. max_depth = 8 : Should be chosen (5-8) based on the number of observations and predictors. This has ~71K rows and 32 columns so lets take 8 here.\n",
    "4. max_features = ‘sqrt’ : Its a general rule of thumb to start with square root.\n",
    "5. subsample = 0.8 : This is a commonly used used start value\n",
    "\n",
    "Please note that all the above are just initial estimates and will be tuned later. Lets take the default learning rate of 0.1 here and check the optimum number of trees for that. For this purpose, we can do a grid search and test out values from 20 to 80 in steps of 10."
   ]
  },
  {
   "cell_type": "code",
   "execution_count": 69,
   "id": "13fa2447",
   "metadata": {},
   "outputs": [
    {
     "data": {
      "text/html": [
       "<style>#sk-container-id-2 {color: black;background-color: white;}#sk-container-id-2 pre{padding: 0;}#sk-container-id-2 div.sk-toggleable {background-color: white;}#sk-container-id-2 label.sk-toggleable__label {cursor: pointer;display: block;width: 100%;margin-bottom: 0;padding: 0.3em;box-sizing: border-box;text-align: center;}#sk-container-id-2 label.sk-toggleable__label-arrow:before {content: \"▸\";float: left;margin-right: 0.25em;color: #696969;}#sk-container-id-2 label.sk-toggleable__label-arrow:hover:before {color: black;}#sk-container-id-2 div.sk-estimator:hover label.sk-toggleable__label-arrow:before {color: black;}#sk-container-id-2 div.sk-toggleable__content {max-height: 0;max-width: 0;overflow: hidden;text-align: left;background-color: #f0f8ff;}#sk-container-id-2 div.sk-toggleable__content pre {margin: 0.2em;color: black;border-radius: 0.25em;background-color: #f0f8ff;}#sk-container-id-2 input.sk-toggleable__control:checked~div.sk-toggleable__content {max-height: 200px;max-width: 100%;overflow: auto;}#sk-container-id-2 input.sk-toggleable__control:checked~label.sk-toggleable__label-arrow:before {content: \"▾\";}#sk-container-id-2 div.sk-estimator input.sk-toggleable__control:checked~label.sk-toggleable__label {background-color: #d4ebff;}#sk-container-id-2 div.sk-label input.sk-toggleable__control:checked~label.sk-toggleable__label {background-color: #d4ebff;}#sk-container-id-2 input.sk-hidden--visually {border: 0;clip: rect(1px 1px 1px 1px);clip: rect(1px, 1px, 1px, 1px);height: 1px;margin: -1px;overflow: hidden;padding: 0;position: absolute;width: 1px;}#sk-container-id-2 div.sk-estimator {font-family: monospace;background-color: #f0f8ff;border: 1px dotted black;border-radius: 0.25em;box-sizing: border-box;margin-bottom: 0.5em;}#sk-container-id-2 div.sk-estimator:hover {background-color: #d4ebff;}#sk-container-id-2 div.sk-parallel-item::after {content: \"\";width: 100%;border-bottom: 1px solid gray;flex-grow: 1;}#sk-container-id-2 div.sk-label:hover label.sk-toggleable__label {background-color: #d4ebff;}#sk-container-id-2 div.sk-serial::before {content: \"\";position: absolute;border-left: 1px solid gray;box-sizing: border-box;top: 0;bottom: 0;left: 50%;z-index: 0;}#sk-container-id-2 div.sk-serial {display: flex;flex-direction: column;align-items: center;background-color: white;padding-right: 0.2em;padding-left: 0.2em;position: relative;}#sk-container-id-2 div.sk-item {position: relative;z-index: 1;}#sk-container-id-2 div.sk-parallel {display: flex;align-items: stretch;justify-content: center;background-color: white;position: relative;}#sk-container-id-2 div.sk-item::before, #sk-container-id-2 div.sk-parallel-item::before {content: \"\";position: absolute;border-left: 1px solid gray;box-sizing: border-box;top: 0;bottom: 0;left: 50%;z-index: -1;}#sk-container-id-2 div.sk-parallel-item {display: flex;flex-direction: column;z-index: 1;position: relative;background-color: white;}#sk-container-id-2 div.sk-parallel-item:first-child::after {align-self: flex-end;width: 50%;}#sk-container-id-2 div.sk-parallel-item:last-child::after {align-self: flex-start;width: 50%;}#sk-container-id-2 div.sk-parallel-item:only-child::after {width: 0;}#sk-container-id-2 div.sk-dashed-wrapped {border: 1px dashed gray;margin: 0 0.4em 0.5em 0.4em;box-sizing: border-box;padding-bottom: 0.4em;background-color: white;}#sk-container-id-2 div.sk-label label {font-family: monospace;font-weight: bold;display: inline-block;line-height: 1.2em;}#sk-container-id-2 div.sk-label-container {text-align: center;}#sk-container-id-2 div.sk-container {/* jupyter's `normalize.less` sets `[hidden] { display: none; }` but bootstrap.min.css set `[hidden] { display: none !important; }` so we also need the `!important` here to be able to override the default hidden behavior on the sphinx rendered scikit-learn.org. See: https://github.com/scikit-learn/scikit-learn/issues/21755 */display: inline-block !important;position: relative;}#sk-container-id-2 div.sk-text-repr-fallback {display: none;}</style><div id=\"sk-container-id-2\" class=\"sk-top-container\"><div class=\"sk-text-repr-fallback\"><pre>GridSearchCV(cv=5,\n",
       "             estimator=GradientBoostingClassifier(max_depth=8,\n",
       "                                                  max_features=&#x27;sqrt&#x27;,\n",
       "                                                  min_samples_leaf=50,\n",
       "                                                  min_samples_split=400,\n",
       "                                                  random_state=10,\n",
       "                                                  subsample=0.8),\n",
       "             param_grid={&#x27;n_estimators&#x27;: range(20, 81, 10)}, scoring=&#x27;roc_auc&#x27;)</pre><b>In a Jupyter environment, please rerun this cell to show the HTML representation or trust the notebook. <br />On GitHub, the HTML representation is unable to render, please try loading this page with nbviewer.org.</b></div><div class=\"sk-container\" hidden><div class=\"sk-item sk-dashed-wrapped\"><div class=\"sk-label-container\"><div class=\"sk-label sk-toggleable\"><input class=\"sk-toggleable__control sk-hidden--visually\" id=\"sk-estimator-id-4\" type=\"checkbox\" ><label for=\"sk-estimator-id-4\" class=\"sk-toggleable__label sk-toggleable__label-arrow\">GridSearchCV</label><div class=\"sk-toggleable__content\"><pre>GridSearchCV(cv=5,\n",
       "             estimator=GradientBoostingClassifier(max_depth=8,\n",
       "                                                  max_features=&#x27;sqrt&#x27;,\n",
       "                                                  min_samples_leaf=50,\n",
       "                                                  min_samples_split=400,\n",
       "                                                  random_state=10,\n",
       "                                                  subsample=0.8),\n",
       "             param_grid={&#x27;n_estimators&#x27;: range(20, 81, 10)}, scoring=&#x27;roc_auc&#x27;)</pre></div></div></div><div class=\"sk-parallel\"><div class=\"sk-parallel-item\"><div class=\"sk-item\"><div class=\"sk-label-container\"><div class=\"sk-label sk-toggleable\"><input class=\"sk-toggleable__control sk-hidden--visually\" id=\"sk-estimator-id-5\" type=\"checkbox\" ><label for=\"sk-estimator-id-5\" class=\"sk-toggleable__label sk-toggleable__label-arrow\">estimator: GradientBoostingClassifier</label><div class=\"sk-toggleable__content\"><pre>GradientBoostingClassifier(max_depth=8, max_features=&#x27;sqrt&#x27;,\n",
       "                           min_samples_leaf=50, min_samples_split=400,\n",
       "                           random_state=10, subsample=0.8)</pre></div></div></div><div class=\"sk-serial\"><div class=\"sk-item\"><div class=\"sk-estimator sk-toggleable\"><input class=\"sk-toggleable__control sk-hidden--visually\" id=\"sk-estimator-id-6\" type=\"checkbox\" ><label for=\"sk-estimator-id-6\" class=\"sk-toggleable__label sk-toggleable__label-arrow\">GradientBoostingClassifier</label><div class=\"sk-toggleable__content\"><pre>GradientBoostingClassifier(max_depth=8, max_features=&#x27;sqrt&#x27;,\n",
       "                           min_samples_leaf=50, min_samples_split=400,\n",
       "                           random_state=10, subsample=0.8)</pre></div></div></div></div></div></div></div></div></div></div>"
      ],
      "text/plain": [
       "GridSearchCV(cv=5,\n",
       "             estimator=GradientBoostingClassifier(max_depth=8,\n",
       "                                                  max_features='sqrt',\n",
       "                                                  min_samples_leaf=50,\n",
       "                                                  min_samples_split=400,\n",
       "                                                  random_state=10,\n",
       "                                                  subsample=0.8),\n",
       "             param_grid={'n_estimators': range(20, 81, 10)}, scoring='roc_auc')"
      ]
     },
     "execution_count": 69,
     "metadata": {},
     "output_type": "execute_result"
    }
   ],
   "source": [
    "#1.0 - Grid seach on n_estimators\n",
    "param_test1 = {'n_estimators':range(20,81,10)}\n",
    "gsearch1 = GridSearchCV(estimator = GradientBoostingClassifier(learning_rate=0.1, \n",
    "                                                               min_samples_split=400, \n",
    "                                                               min_samples_leaf=50,\n",
    "                                                               max_depth=8,\n",
    "                                                               max_features='sqrt', \n",
    "                                                               subsample=0.8,\n",
    "                                                               random_state=10)\n",
    "                                                               , param_grid = param_test1,\n",
    "                                                               scoring='roc_auc', cv=5)\n",
    "                        \n",
    "gsearch1.fit(X_train,y_train)"
   ]
  },
  {
   "cell_type": "code",
   "execution_count": 70,
   "id": "2032f363",
   "metadata": {},
   "outputs": [
    {
     "data": {
      "text/plain": [
       "({'n_estimators': 80}, 0.6514330115243043)"
      ]
     },
     "execution_count": 70,
     "metadata": {},
     "output_type": "execute_result"
    }
   ],
   "source": [
    "gsearch1.best_params_, gsearch1.best_score_"
   ]
  },
  {
   "cell_type": "raw",
   "id": "e015fbd3",
   "metadata": {},
   "source": [
    "So we got 80 as the optimal estimators for the 0.1 learning rate. Note that 80 is a reasonable value and can be used as it is. But it might not be the same in all cases. Other situations:\n",
    "\n",
    "1. If the value is around 20, you might want to try lowering the learning rate to 0.05 and re-run grid search.\n",
    "2. If the values are too high ~100, tuning the other parameters will take long time and you can try a higher learning rate."
   ]
  },
  {
   "cell_type": "code",
   "execution_count": 72,
   "id": "11c195c2",
   "metadata": {},
   "outputs": [],
   "source": [
    "##### Step 2 - Tune tree-specific parameters"
   ]
  },
  {
   "cell_type": "raw",
   "id": "d060d8f6",
   "metadata": {},
   "source": [
    "Now, lets move onto tuning the tree parameters. We will do this in 3 stages:\n",
    "\n",
    "   1. Tune max_depth and min_samples_split\n",
    "   2. Tune min_samples_leaf\n",
    "   3. Tune max_features"
   ]
  },
  {
   "cell_type": "code",
   "execution_count": 73,
   "id": "d83afc79",
   "metadata": {},
   "outputs": [
    {
     "data": {
      "text/html": [
       "<style>#sk-container-id-3 {color: black;background-color: white;}#sk-container-id-3 pre{padding: 0;}#sk-container-id-3 div.sk-toggleable {background-color: white;}#sk-container-id-3 label.sk-toggleable__label {cursor: pointer;display: block;width: 100%;margin-bottom: 0;padding: 0.3em;box-sizing: border-box;text-align: center;}#sk-container-id-3 label.sk-toggleable__label-arrow:before {content: \"▸\";float: left;margin-right: 0.25em;color: #696969;}#sk-container-id-3 label.sk-toggleable__label-arrow:hover:before {color: black;}#sk-container-id-3 div.sk-estimator:hover label.sk-toggleable__label-arrow:before {color: black;}#sk-container-id-3 div.sk-toggleable__content {max-height: 0;max-width: 0;overflow: hidden;text-align: left;background-color: #f0f8ff;}#sk-container-id-3 div.sk-toggleable__content pre {margin: 0.2em;color: black;border-radius: 0.25em;background-color: #f0f8ff;}#sk-container-id-3 input.sk-toggleable__control:checked~div.sk-toggleable__content {max-height: 200px;max-width: 100%;overflow: auto;}#sk-container-id-3 input.sk-toggleable__control:checked~label.sk-toggleable__label-arrow:before {content: \"▾\";}#sk-container-id-3 div.sk-estimator input.sk-toggleable__control:checked~label.sk-toggleable__label {background-color: #d4ebff;}#sk-container-id-3 div.sk-label input.sk-toggleable__control:checked~label.sk-toggleable__label {background-color: #d4ebff;}#sk-container-id-3 input.sk-hidden--visually {border: 0;clip: rect(1px 1px 1px 1px);clip: rect(1px, 1px, 1px, 1px);height: 1px;margin: -1px;overflow: hidden;padding: 0;position: absolute;width: 1px;}#sk-container-id-3 div.sk-estimator {font-family: monospace;background-color: #f0f8ff;border: 1px dotted black;border-radius: 0.25em;box-sizing: border-box;margin-bottom: 0.5em;}#sk-container-id-3 div.sk-estimator:hover {background-color: #d4ebff;}#sk-container-id-3 div.sk-parallel-item::after {content: \"\";width: 100%;border-bottom: 1px solid gray;flex-grow: 1;}#sk-container-id-3 div.sk-label:hover label.sk-toggleable__label {background-color: #d4ebff;}#sk-container-id-3 div.sk-serial::before {content: \"\";position: absolute;border-left: 1px solid gray;box-sizing: border-box;top: 0;bottom: 0;left: 50%;z-index: 0;}#sk-container-id-3 div.sk-serial {display: flex;flex-direction: column;align-items: center;background-color: white;padding-right: 0.2em;padding-left: 0.2em;position: relative;}#sk-container-id-3 div.sk-item {position: relative;z-index: 1;}#sk-container-id-3 div.sk-parallel {display: flex;align-items: stretch;justify-content: center;background-color: white;position: relative;}#sk-container-id-3 div.sk-item::before, #sk-container-id-3 div.sk-parallel-item::before {content: \"\";position: absolute;border-left: 1px solid gray;box-sizing: border-box;top: 0;bottom: 0;left: 50%;z-index: -1;}#sk-container-id-3 div.sk-parallel-item {display: flex;flex-direction: column;z-index: 1;position: relative;background-color: white;}#sk-container-id-3 div.sk-parallel-item:first-child::after {align-self: flex-end;width: 50%;}#sk-container-id-3 div.sk-parallel-item:last-child::after {align-self: flex-start;width: 50%;}#sk-container-id-3 div.sk-parallel-item:only-child::after {width: 0;}#sk-container-id-3 div.sk-dashed-wrapped {border: 1px dashed gray;margin: 0 0.4em 0.5em 0.4em;box-sizing: border-box;padding-bottom: 0.4em;background-color: white;}#sk-container-id-3 div.sk-label label {font-family: monospace;font-weight: bold;display: inline-block;line-height: 1.2em;}#sk-container-id-3 div.sk-label-container {text-align: center;}#sk-container-id-3 div.sk-container {/* jupyter's `normalize.less` sets `[hidden] { display: none; }` but bootstrap.min.css set `[hidden] { display: none !important; }` so we also need the `!important` here to be able to override the default hidden behavior on the sphinx rendered scikit-learn.org. See: https://github.com/scikit-learn/scikit-learn/issues/21755 */display: inline-block !important;position: relative;}#sk-container-id-3 div.sk-text-repr-fallback {display: none;}</style><div id=\"sk-container-id-3\" class=\"sk-top-container\"><div class=\"sk-text-repr-fallback\"><pre>GridSearchCV(cv=5,\n",
       "             estimator=GradientBoostingClassifier(max_features=&#x27;sqrt&#x27;,\n",
       "                                                  n_estimators=80,\n",
       "                                                  random_state=10,\n",
       "                                                  subsample=0.8),\n",
       "             param_grid={&#x27;max_depth&#x27;: range(3, 16, 3),\n",
       "                         &#x27;min_samples_split&#x27;: range(200, 1001, 200)},\n",
       "             scoring=&#x27;roc_auc&#x27;)</pre><b>In a Jupyter environment, please rerun this cell to show the HTML representation or trust the notebook. <br />On GitHub, the HTML representation is unable to render, please try loading this page with nbviewer.org.</b></div><div class=\"sk-container\" hidden><div class=\"sk-item sk-dashed-wrapped\"><div class=\"sk-label-container\"><div class=\"sk-label sk-toggleable\"><input class=\"sk-toggleable__control sk-hidden--visually\" id=\"sk-estimator-id-7\" type=\"checkbox\" ><label for=\"sk-estimator-id-7\" class=\"sk-toggleable__label sk-toggleable__label-arrow\">GridSearchCV</label><div class=\"sk-toggleable__content\"><pre>GridSearchCV(cv=5,\n",
       "             estimator=GradientBoostingClassifier(max_features=&#x27;sqrt&#x27;,\n",
       "                                                  n_estimators=80,\n",
       "                                                  random_state=10,\n",
       "                                                  subsample=0.8),\n",
       "             param_grid={&#x27;max_depth&#x27;: range(3, 16, 3),\n",
       "                         &#x27;min_samples_split&#x27;: range(200, 1001, 200)},\n",
       "             scoring=&#x27;roc_auc&#x27;)</pre></div></div></div><div class=\"sk-parallel\"><div class=\"sk-parallel-item\"><div class=\"sk-item\"><div class=\"sk-label-container\"><div class=\"sk-label sk-toggleable\"><input class=\"sk-toggleable__control sk-hidden--visually\" id=\"sk-estimator-id-8\" type=\"checkbox\" ><label for=\"sk-estimator-id-8\" class=\"sk-toggleable__label sk-toggleable__label-arrow\">estimator: GradientBoostingClassifier</label><div class=\"sk-toggleable__content\"><pre>GradientBoostingClassifier(max_features=&#x27;sqrt&#x27;, n_estimators=80,\n",
       "                           random_state=10, subsample=0.8)</pre></div></div></div><div class=\"sk-serial\"><div class=\"sk-item\"><div class=\"sk-estimator sk-toggleable\"><input class=\"sk-toggleable__control sk-hidden--visually\" id=\"sk-estimator-id-9\" type=\"checkbox\" ><label for=\"sk-estimator-id-9\" class=\"sk-toggleable__label sk-toggleable__label-arrow\">GradientBoostingClassifier</label><div class=\"sk-toggleable__content\"><pre>GradientBoostingClassifier(max_features=&#x27;sqrt&#x27;, n_estimators=80,\n",
       "                           random_state=10, subsample=0.8)</pre></div></div></div></div></div></div></div></div></div></div>"
      ],
      "text/plain": [
       "GridSearchCV(cv=5,\n",
       "             estimator=GradientBoostingClassifier(max_features='sqrt',\n",
       "                                                  n_estimators=80,\n",
       "                                                  random_state=10,\n",
       "                                                  subsample=0.8),\n",
       "             param_grid={'max_depth': range(3, 16, 3),\n",
       "                         'min_samples_split': range(200, 1001, 200)},\n",
       "             scoring='roc_auc')"
      ]
     },
     "execution_count": 73,
     "metadata": {},
     "output_type": "execute_result"
    }
   ],
   "source": [
    "#2.1 - Grid seach on max_depth and min_samples_split\n",
    "param_test2 = {'max_depth':range(3,16,3), 'min_samples_split':range(200,1001,200)}\n",
    "gsearch2 = GridSearchCV(estimator = GradientBoostingClassifier(learning_rate=0.1, n_estimators=80,\n",
    "                                                max_features='sqrt', subsample=0.8, random_state=10), \n",
    "                       param_grid = param_test2, scoring='roc_auc', cv=5)\n",
    "gsearch2.fit(X_train,y_train)"
   ]
  },
  {
   "cell_type": "code",
   "execution_count": 74,
   "id": "b210d2d8",
   "metadata": {},
   "outputs": [
    {
     "data": {
      "text/plain": [
       "({'max_depth': 9, 'min_samples_split': 600}, 0.6531351250308093)"
      ]
     },
     "execution_count": 74,
     "metadata": {},
     "output_type": "execute_result"
    }
   ],
   "source": [
    "gsearch2.best_params_, gsearch2.best_score_"
   ]
  },
  {
   "cell_type": "code",
   "execution_count": 75,
   "id": "9217030b",
   "metadata": {},
   "outputs": [
    {
     "data": {
      "text/html": [
       "<style>#sk-container-id-4 {color: black;background-color: white;}#sk-container-id-4 pre{padding: 0;}#sk-container-id-4 div.sk-toggleable {background-color: white;}#sk-container-id-4 label.sk-toggleable__label {cursor: pointer;display: block;width: 100%;margin-bottom: 0;padding: 0.3em;box-sizing: border-box;text-align: center;}#sk-container-id-4 label.sk-toggleable__label-arrow:before {content: \"▸\";float: left;margin-right: 0.25em;color: #696969;}#sk-container-id-4 label.sk-toggleable__label-arrow:hover:before {color: black;}#sk-container-id-4 div.sk-estimator:hover label.sk-toggleable__label-arrow:before {color: black;}#sk-container-id-4 div.sk-toggleable__content {max-height: 0;max-width: 0;overflow: hidden;text-align: left;background-color: #f0f8ff;}#sk-container-id-4 div.sk-toggleable__content pre {margin: 0.2em;color: black;border-radius: 0.25em;background-color: #f0f8ff;}#sk-container-id-4 input.sk-toggleable__control:checked~div.sk-toggleable__content {max-height: 200px;max-width: 100%;overflow: auto;}#sk-container-id-4 input.sk-toggleable__control:checked~label.sk-toggleable__label-arrow:before {content: \"▾\";}#sk-container-id-4 div.sk-estimator input.sk-toggleable__control:checked~label.sk-toggleable__label {background-color: #d4ebff;}#sk-container-id-4 div.sk-label input.sk-toggleable__control:checked~label.sk-toggleable__label {background-color: #d4ebff;}#sk-container-id-4 input.sk-hidden--visually {border: 0;clip: rect(1px 1px 1px 1px);clip: rect(1px, 1px, 1px, 1px);height: 1px;margin: -1px;overflow: hidden;padding: 0;position: absolute;width: 1px;}#sk-container-id-4 div.sk-estimator {font-family: monospace;background-color: #f0f8ff;border: 1px dotted black;border-radius: 0.25em;box-sizing: border-box;margin-bottom: 0.5em;}#sk-container-id-4 div.sk-estimator:hover {background-color: #d4ebff;}#sk-container-id-4 div.sk-parallel-item::after {content: \"\";width: 100%;border-bottom: 1px solid gray;flex-grow: 1;}#sk-container-id-4 div.sk-label:hover label.sk-toggleable__label {background-color: #d4ebff;}#sk-container-id-4 div.sk-serial::before {content: \"\";position: absolute;border-left: 1px solid gray;box-sizing: border-box;top: 0;bottom: 0;left: 50%;z-index: 0;}#sk-container-id-4 div.sk-serial {display: flex;flex-direction: column;align-items: center;background-color: white;padding-right: 0.2em;padding-left: 0.2em;position: relative;}#sk-container-id-4 div.sk-item {position: relative;z-index: 1;}#sk-container-id-4 div.sk-parallel {display: flex;align-items: stretch;justify-content: center;background-color: white;position: relative;}#sk-container-id-4 div.sk-item::before, #sk-container-id-4 div.sk-parallel-item::before {content: \"\";position: absolute;border-left: 1px solid gray;box-sizing: border-box;top: 0;bottom: 0;left: 50%;z-index: -1;}#sk-container-id-4 div.sk-parallel-item {display: flex;flex-direction: column;z-index: 1;position: relative;background-color: white;}#sk-container-id-4 div.sk-parallel-item:first-child::after {align-self: flex-end;width: 50%;}#sk-container-id-4 div.sk-parallel-item:last-child::after {align-self: flex-start;width: 50%;}#sk-container-id-4 div.sk-parallel-item:only-child::after {width: 0;}#sk-container-id-4 div.sk-dashed-wrapped {border: 1px dashed gray;margin: 0 0.4em 0.5em 0.4em;box-sizing: border-box;padding-bottom: 0.4em;background-color: white;}#sk-container-id-4 div.sk-label label {font-family: monospace;font-weight: bold;display: inline-block;line-height: 1.2em;}#sk-container-id-4 div.sk-label-container {text-align: center;}#sk-container-id-4 div.sk-container {/* jupyter's `normalize.less` sets `[hidden] { display: none; }` but bootstrap.min.css set `[hidden] { display: none !important; }` so we also need the `!important` here to be able to override the default hidden behavior on the sphinx rendered scikit-learn.org. See: https://github.com/scikit-learn/scikit-learn/issues/21755 */display: inline-block !important;position: relative;}#sk-container-id-4 div.sk-text-repr-fallback {display: none;}</style><div id=\"sk-container-id-4\" class=\"sk-top-container\"><div class=\"sk-text-repr-fallback\"><pre>GridSearchCV(cv=5,\n",
       "             estimator=GradientBoostingClassifier(max_depth=9,\n",
       "                                                  max_features=&#x27;sqrt&#x27;,\n",
       "                                                  min_samples_split=600,\n",
       "                                                  n_estimators=80,\n",
       "                                                  random_state=10,\n",
       "                                                  subsample=0.8),\n",
       "             param_grid={&#x27;min_samples_leaf&#x27;: range(30, 71, 10)},\n",
       "             scoring=&#x27;roc_auc&#x27;)</pre><b>In a Jupyter environment, please rerun this cell to show the HTML representation or trust the notebook. <br />On GitHub, the HTML representation is unable to render, please try loading this page with nbviewer.org.</b></div><div class=\"sk-container\" hidden><div class=\"sk-item sk-dashed-wrapped\"><div class=\"sk-label-container\"><div class=\"sk-label sk-toggleable\"><input class=\"sk-toggleable__control sk-hidden--visually\" id=\"sk-estimator-id-10\" type=\"checkbox\" ><label for=\"sk-estimator-id-10\" class=\"sk-toggleable__label sk-toggleable__label-arrow\">GridSearchCV</label><div class=\"sk-toggleable__content\"><pre>GridSearchCV(cv=5,\n",
       "             estimator=GradientBoostingClassifier(max_depth=9,\n",
       "                                                  max_features=&#x27;sqrt&#x27;,\n",
       "                                                  min_samples_split=600,\n",
       "                                                  n_estimators=80,\n",
       "                                                  random_state=10,\n",
       "                                                  subsample=0.8),\n",
       "             param_grid={&#x27;min_samples_leaf&#x27;: range(30, 71, 10)},\n",
       "             scoring=&#x27;roc_auc&#x27;)</pre></div></div></div><div class=\"sk-parallel\"><div class=\"sk-parallel-item\"><div class=\"sk-item\"><div class=\"sk-label-container\"><div class=\"sk-label sk-toggleable\"><input class=\"sk-toggleable__control sk-hidden--visually\" id=\"sk-estimator-id-11\" type=\"checkbox\" ><label for=\"sk-estimator-id-11\" class=\"sk-toggleable__label sk-toggleable__label-arrow\">estimator: GradientBoostingClassifier</label><div class=\"sk-toggleable__content\"><pre>GradientBoostingClassifier(max_depth=9, max_features=&#x27;sqrt&#x27;,\n",
       "                           min_samples_split=600, n_estimators=80,\n",
       "                           random_state=10, subsample=0.8)</pre></div></div></div><div class=\"sk-serial\"><div class=\"sk-item\"><div class=\"sk-estimator sk-toggleable\"><input class=\"sk-toggleable__control sk-hidden--visually\" id=\"sk-estimator-id-12\" type=\"checkbox\" ><label for=\"sk-estimator-id-12\" class=\"sk-toggleable__label sk-toggleable__label-arrow\">GradientBoostingClassifier</label><div class=\"sk-toggleable__content\"><pre>GradientBoostingClassifier(max_depth=9, max_features=&#x27;sqrt&#x27;,\n",
       "                           min_samples_split=600, n_estimators=80,\n",
       "                           random_state=10, subsample=0.8)</pre></div></div></div></div></div></div></div></div></div></div>"
      ],
      "text/plain": [
       "GridSearchCV(cv=5,\n",
       "             estimator=GradientBoostingClassifier(max_depth=9,\n",
       "                                                  max_features='sqrt',\n",
       "                                                  min_samples_split=600,\n",
       "                                                  n_estimators=80,\n",
       "                                                  random_state=10,\n",
       "                                                  subsample=0.8),\n",
       "             param_grid={'min_samples_leaf': range(30, 71, 10)},\n",
       "             scoring='roc_auc')"
      ]
     },
     "execution_count": 75,
     "metadata": {},
     "output_type": "execute_result"
    }
   ],
   "source": [
    "#2.2 - Grid seach on min_samples_leaf\n",
    "param_test3 = {'min_samples_leaf':range(30,71,10)}\n",
    "gsearch3 = GridSearchCV(estimator = GradientBoostingClassifier(learning_rate=0.1, n_estimators=80,min_samples_split=600, \n",
    "                                                               max_depth=9, max_features='sqrt', subsample=0.8, random_state=10), \n",
    "                       param_grid = param_test3, scoring='roc_auc', cv=5)\n",
    "gsearch3.fit(X_train,y_train)"
   ]
  },
  {
   "cell_type": "code",
   "execution_count": 76,
   "id": "38efb57e",
   "metadata": {},
   "outputs": [
    {
     "data": {
      "text/plain": [
       "({'min_samples_leaf': 30}, 0.653654540996027)"
      ]
     },
     "execution_count": 76,
     "metadata": {},
     "output_type": "execute_result"
    }
   ],
   "source": [
    "gsearch3.best_params_, gsearch3.best_score_"
   ]
  },
  {
   "cell_type": "code",
   "execution_count": 77,
   "id": "2ce4fe19",
   "metadata": {},
   "outputs": [
    {
     "data": {
      "text/html": [
       "<style>#sk-container-id-5 {color: black;background-color: white;}#sk-container-id-5 pre{padding: 0;}#sk-container-id-5 div.sk-toggleable {background-color: white;}#sk-container-id-5 label.sk-toggleable__label {cursor: pointer;display: block;width: 100%;margin-bottom: 0;padding: 0.3em;box-sizing: border-box;text-align: center;}#sk-container-id-5 label.sk-toggleable__label-arrow:before {content: \"▸\";float: left;margin-right: 0.25em;color: #696969;}#sk-container-id-5 label.sk-toggleable__label-arrow:hover:before {color: black;}#sk-container-id-5 div.sk-estimator:hover label.sk-toggleable__label-arrow:before {color: black;}#sk-container-id-5 div.sk-toggleable__content {max-height: 0;max-width: 0;overflow: hidden;text-align: left;background-color: #f0f8ff;}#sk-container-id-5 div.sk-toggleable__content pre {margin: 0.2em;color: black;border-radius: 0.25em;background-color: #f0f8ff;}#sk-container-id-5 input.sk-toggleable__control:checked~div.sk-toggleable__content {max-height: 200px;max-width: 100%;overflow: auto;}#sk-container-id-5 input.sk-toggleable__control:checked~label.sk-toggleable__label-arrow:before {content: \"▾\";}#sk-container-id-5 div.sk-estimator input.sk-toggleable__control:checked~label.sk-toggleable__label {background-color: #d4ebff;}#sk-container-id-5 div.sk-label input.sk-toggleable__control:checked~label.sk-toggleable__label {background-color: #d4ebff;}#sk-container-id-5 input.sk-hidden--visually {border: 0;clip: rect(1px 1px 1px 1px);clip: rect(1px, 1px, 1px, 1px);height: 1px;margin: -1px;overflow: hidden;padding: 0;position: absolute;width: 1px;}#sk-container-id-5 div.sk-estimator {font-family: monospace;background-color: #f0f8ff;border: 1px dotted black;border-radius: 0.25em;box-sizing: border-box;margin-bottom: 0.5em;}#sk-container-id-5 div.sk-estimator:hover {background-color: #d4ebff;}#sk-container-id-5 div.sk-parallel-item::after {content: \"\";width: 100%;border-bottom: 1px solid gray;flex-grow: 1;}#sk-container-id-5 div.sk-label:hover label.sk-toggleable__label {background-color: #d4ebff;}#sk-container-id-5 div.sk-serial::before {content: \"\";position: absolute;border-left: 1px solid gray;box-sizing: border-box;top: 0;bottom: 0;left: 50%;z-index: 0;}#sk-container-id-5 div.sk-serial {display: flex;flex-direction: column;align-items: center;background-color: white;padding-right: 0.2em;padding-left: 0.2em;position: relative;}#sk-container-id-5 div.sk-item {position: relative;z-index: 1;}#sk-container-id-5 div.sk-parallel {display: flex;align-items: stretch;justify-content: center;background-color: white;position: relative;}#sk-container-id-5 div.sk-item::before, #sk-container-id-5 div.sk-parallel-item::before {content: \"\";position: absolute;border-left: 1px solid gray;box-sizing: border-box;top: 0;bottom: 0;left: 50%;z-index: -1;}#sk-container-id-5 div.sk-parallel-item {display: flex;flex-direction: column;z-index: 1;position: relative;background-color: white;}#sk-container-id-5 div.sk-parallel-item:first-child::after {align-self: flex-end;width: 50%;}#sk-container-id-5 div.sk-parallel-item:last-child::after {align-self: flex-start;width: 50%;}#sk-container-id-5 div.sk-parallel-item:only-child::after {width: 0;}#sk-container-id-5 div.sk-dashed-wrapped {border: 1px dashed gray;margin: 0 0.4em 0.5em 0.4em;box-sizing: border-box;padding-bottom: 0.4em;background-color: white;}#sk-container-id-5 div.sk-label label {font-family: monospace;font-weight: bold;display: inline-block;line-height: 1.2em;}#sk-container-id-5 div.sk-label-container {text-align: center;}#sk-container-id-5 div.sk-container {/* jupyter's `normalize.less` sets `[hidden] { display: none; }` but bootstrap.min.css set `[hidden] { display: none !important; }` so we also need the `!important` here to be able to override the default hidden behavior on the sphinx rendered scikit-learn.org. See: https://github.com/scikit-learn/scikit-learn/issues/21755 */display: inline-block !important;position: relative;}#sk-container-id-5 div.sk-text-repr-fallback {display: none;}</style><div id=\"sk-container-id-5\" class=\"sk-top-container\"><div class=\"sk-text-repr-fallback\"><pre>GridSearchCV(cv=5,\n",
       "             estimator=GradientBoostingClassifier(max_depth=9,\n",
       "                                                  min_samples_leaf=30,\n",
       "                                                  min_samples_split=600,\n",
       "                                                  n_estimators=80,\n",
       "                                                  random_state=10,\n",
       "                                                  subsample=0.8),\n",
       "             param_grid={&#x27;max_features&#x27;: range(4, 20, 2)}, scoring=&#x27;roc_auc&#x27;)</pre><b>In a Jupyter environment, please rerun this cell to show the HTML representation or trust the notebook. <br />On GitHub, the HTML representation is unable to render, please try loading this page with nbviewer.org.</b></div><div class=\"sk-container\" hidden><div class=\"sk-item sk-dashed-wrapped\"><div class=\"sk-label-container\"><div class=\"sk-label sk-toggleable\"><input class=\"sk-toggleable__control sk-hidden--visually\" id=\"sk-estimator-id-13\" type=\"checkbox\" ><label for=\"sk-estimator-id-13\" class=\"sk-toggleable__label sk-toggleable__label-arrow\">GridSearchCV</label><div class=\"sk-toggleable__content\"><pre>GridSearchCV(cv=5,\n",
       "             estimator=GradientBoostingClassifier(max_depth=9,\n",
       "                                                  min_samples_leaf=30,\n",
       "                                                  min_samples_split=600,\n",
       "                                                  n_estimators=80,\n",
       "                                                  random_state=10,\n",
       "                                                  subsample=0.8),\n",
       "             param_grid={&#x27;max_features&#x27;: range(4, 20, 2)}, scoring=&#x27;roc_auc&#x27;)</pre></div></div></div><div class=\"sk-parallel\"><div class=\"sk-parallel-item\"><div class=\"sk-item\"><div class=\"sk-label-container\"><div class=\"sk-label sk-toggleable\"><input class=\"sk-toggleable__control sk-hidden--visually\" id=\"sk-estimator-id-14\" type=\"checkbox\" ><label for=\"sk-estimator-id-14\" class=\"sk-toggleable__label sk-toggleable__label-arrow\">estimator: GradientBoostingClassifier</label><div class=\"sk-toggleable__content\"><pre>GradientBoostingClassifier(max_depth=9, min_samples_leaf=30,\n",
       "                           min_samples_split=600, n_estimators=80,\n",
       "                           random_state=10, subsample=0.8)</pre></div></div></div><div class=\"sk-serial\"><div class=\"sk-item\"><div class=\"sk-estimator sk-toggleable\"><input class=\"sk-toggleable__control sk-hidden--visually\" id=\"sk-estimator-id-15\" type=\"checkbox\" ><label for=\"sk-estimator-id-15\" class=\"sk-toggleable__label sk-toggleable__label-arrow\">GradientBoostingClassifier</label><div class=\"sk-toggleable__content\"><pre>GradientBoostingClassifier(max_depth=9, min_samples_leaf=30,\n",
       "                           min_samples_split=600, n_estimators=80,\n",
       "                           random_state=10, subsample=0.8)</pre></div></div></div></div></div></div></div></div></div></div>"
      ],
      "text/plain": [
       "GridSearchCV(cv=5,\n",
       "             estimator=GradientBoostingClassifier(max_depth=9,\n",
       "                                                  min_samples_leaf=30,\n",
       "                                                  min_samples_split=600,\n",
       "                                                  n_estimators=80,\n",
       "                                                  random_state=10,\n",
       "                                                  subsample=0.8),\n",
       "             param_grid={'max_features': range(4, 20, 2)}, scoring='roc_auc')"
      ]
     },
     "execution_count": 77,
     "metadata": {},
     "output_type": "execute_result"
    }
   ],
   "source": [
    "# 2.3 Grid seach on max_features\n",
    "param_test4 = {'max_features':range(4,20,2)}\n",
    "gsearch4 = GridSearchCV(estimator = GradientBoostingClassifier(learning_rate=0.1, n_estimators=80,max_depth=9, \n",
    "                            min_samples_split=600, min_samples_leaf=30, subsample=0.8, random_state=10),\n",
    "                       param_grid = param_test4, scoring='roc_auc', cv=5)\n",
    "gsearch4.fit(X_train,y_train)"
   ]
  },
  {
   "cell_type": "code",
   "execution_count": 78,
   "id": "7bd14c9b",
   "metadata": {},
   "outputs": [
    {
     "data": {
      "text/plain": [
       "({'max_features': 16}, 0.6547729699378365)"
      ]
     },
     "execution_count": 78,
     "metadata": {},
     "output_type": "execute_result"
    }
   ],
   "source": [
    "gsearch4.best_params_, gsearch4.best_score_"
   ]
  },
  {
   "cell_type": "code",
   "execution_count": 79,
   "id": "bb52583c",
   "metadata": {},
   "outputs": [
    {
     "data": {
      "text/html": [
       "<style>#sk-container-id-6 {color: black;background-color: white;}#sk-container-id-6 pre{padding: 0;}#sk-container-id-6 div.sk-toggleable {background-color: white;}#sk-container-id-6 label.sk-toggleable__label {cursor: pointer;display: block;width: 100%;margin-bottom: 0;padding: 0.3em;box-sizing: border-box;text-align: center;}#sk-container-id-6 label.sk-toggleable__label-arrow:before {content: \"▸\";float: left;margin-right: 0.25em;color: #696969;}#sk-container-id-6 label.sk-toggleable__label-arrow:hover:before {color: black;}#sk-container-id-6 div.sk-estimator:hover label.sk-toggleable__label-arrow:before {color: black;}#sk-container-id-6 div.sk-toggleable__content {max-height: 0;max-width: 0;overflow: hidden;text-align: left;background-color: #f0f8ff;}#sk-container-id-6 div.sk-toggleable__content pre {margin: 0.2em;color: black;border-radius: 0.25em;background-color: #f0f8ff;}#sk-container-id-6 input.sk-toggleable__control:checked~div.sk-toggleable__content {max-height: 200px;max-width: 100%;overflow: auto;}#sk-container-id-6 input.sk-toggleable__control:checked~label.sk-toggleable__label-arrow:before {content: \"▾\";}#sk-container-id-6 div.sk-estimator input.sk-toggleable__control:checked~label.sk-toggleable__label {background-color: #d4ebff;}#sk-container-id-6 div.sk-label input.sk-toggleable__control:checked~label.sk-toggleable__label {background-color: #d4ebff;}#sk-container-id-6 input.sk-hidden--visually {border: 0;clip: rect(1px 1px 1px 1px);clip: rect(1px, 1px, 1px, 1px);height: 1px;margin: -1px;overflow: hidden;padding: 0;position: absolute;width: 1px;}#sk-container-id-6 div.sk-estimator {font-family: monospace;background-color: #f0f8ff;border: 1px dotted black;border-radius: 0.25em;box-sizing: border-box;margin-bottom: 0.5em;}#sk-container-id-6 div.sk-estimator:hover {background-color: #d4ebff;}#sk-container-id-6 div.sk-parallel-item::after {content: \"\";width: 100%;border-bottom: 1px solid gray;flex-grow: 1;}#sk-container-id-6 div.sk-label:hover label.sk-toggleable__label {background-color: #d4ebff;}#sk-container-id-6 div.sk-serial::before {content: \"\";position: absolute;border-left: 1px solid gray;box-sizing: border-box;top: 0;bottom: 0;left: 50%;z-index: 0;}#sk-container-id-6 div.sk-serial {display: flex;flex-direction: column;align-items: center;background-color: white;padding-right: 0.2em;padding-left: 0.2em;position: relative;}#sk-container-id-6 div.sk-item {position: relative;z-index: 1;}#sk-container-id-6 div.sk-parallel {display: flex;align-items: stretch;justify-content: center;background-color: white;position: relative;}#sk-container-id-6 div.sk-item::before, #sk-container-id-6 div.sk-parallel-item::before {content: \"\";position: absolute;border-left: 1px solid gray;box-sizing: border-box;top: 0;bottom: 0;left: 50%;z-index: -1;}#sk-container-id-6 div.sk-parallel-item {display: flex;flex-direction: column;z-index: 1;position: relative;background-color: white;}#sk-container-id-6 div.sk-parallel-item:first-child::after {align-self: flex-end;width: 50%;}#sk-container-id-6 div.sk-parallel-item:last-child::after {align-self: flex-start;width: 50%;}#sk-container-id-6 div.sk-parallel-item:only-child::after {width: 0;}#sk-container-id-6 div.sk-dashed-wrapped {border: 1px dashed gray;margin: 0 0.4em 0.5em 0.4em;box-sizing: border-box;padding-bottom: 0.4em;background-color: white;}#sk-container-id-6 div.sk-label label {font-family: monospace;font-weight: bold;display: inline-block;line-height: 1.2em;}#sk-container-id-6 div.sk-label-container {text-align: center;}#sk-container-id-6 div.sk-container {/* jupyter's `normalize.less` sets `[hidden] { display: none; }` but bootstrap.min.css set `[hidden] { display: none !important; }` so we also need the `!important` here to be able to override the default hidden behavior on the sphinx rendered scikit-learn.org. See: https://github.com/scikit-learn/scikit-learn/issues/21755 */display: inline-block !important;position: relative;}#sk-container-id-6 div.sk-text-repr-fallback {display: none;}</style><div id=\"sk-container-id-6\" class=\"sk-top-container\"><div class=\"sk-text-repr-fallback\"><pre>GradientBoostingClassifier(max_depth=9, max_features=16, min_samples_leaf=30,\n",
       "                           min_samples_split=600, n_estimators=80,\n",
       "                           random_state=10, subsample=0.8)</pre><b>In a Jupyter environment, please rerun this cell to show the HTML representation or trust the notebook. <br />On GitHub, the HTML representation is unable to render, please try loading this page with nbviewer.org.</b></div><div class=\"sk-container\" hidden><div class=\"sk-item\"><div class=\"sk-estimator sk-toggleable\"><input class=\"sk-toggleable__control sk-hidden--visually\" id=\"sk-estimator-id-16\" type=\"checkbox\" checked><label for=\"sk-estimator-id-16\" class=\"sk-toggleable__label sk-toggleable__label-arrow\">GradientBoostingClassifier</label><div class=\"sk-toggleable__content\"><pre>GradientBoostingClassifier(max_depth=9, max_features=16, min_samples_leaf=30,\n",
       "                           min_samples_split=600, n_estimators=80,\n",
       "                           random_state=10, subsample=0.8)</pre></div></div></div></div></div>"
      ],
      "text/plain": [
       "GradientBoostingClassifier(max_depth=9, max_features=16, min_samples_leaf=30,\n",
       "                           min_samples_split=600, n_estimators=80,\n",
       "                           random_state=10, subsample=0.8)"
      ]
     },
     "execution_count": 79,
     "metadata": {},
     "output_type": "execute_result"
    }
   ],
   "source": [
    "#The best parameter values so far: \n",
    "gsearch4.best_estimator_"
   ]
  },
  {
   "cell_type": "raw",
   "id": "435a2b8f",
   "metadata": {},
   "source": [
    "Let's see the GBM performance on our validation set with hyperparameters choosen so far"
   ]
  },
  {
   "cell_type": "code",
   "execution_count": 80,
   "id": "788a35cd",
   "metadata": {},
   "outputs": [
    {
     "name": "stdout",
     "output_type": "stream",
     "text": [
      "\n",
      "Gradient Boost [1] Performance:\n",
      "-----------------------------------\n",
      "F1 Score micro        :  0.6329089962614168\n",
      "F1 Score macro        :  0.5762296708799403\n",
      "classification report:\n",
      "                precision    recall  f1-score   support\n",
      "\n",
      "           0       0.65      0.84      0.73     12571\n",
      "           1       0.58      0.33      0.42      8560\n",
      "\n",
      "    accuracy                           0.63     21131\n",
      "   macro avg       0.62      0.58      0.58     21131\n",
      "weighted avg       0.62      0.63      0.61     21131\n",
      "\n",
      "ROC-AUC Score:\n",
      "  0.5845512117341723\n"
     ]
    }
   ],
   "source": [
    "gbm1 = GradientBoostingClassifier(max_depth=9, max_features=16, min_samples_leaf=30,\n",
    "                           min_samples_split=600, n_estimators=80,\n",
    "                           random_state=10, subsample=0.8) \n",
    "gbm1.fit(X_train,y_train)\n",
    "gbm1_pred_test = gbm1.predict(X_test)\n",
    "\n",
    "print('\\nGradient Boost [1] Performance:')\n",
    "print('-----------------------------------')\n",
    "print('F1 Score micro        : ', f1_score(y_test, gbm1_pred_test,average='micro'))\n",
    "print('F1 Score macro        : ', f1_score(y_test, gbm1_pred_test,average='macro'))\n",
    "\n",
    "print('classification report:\\n ', classification_report(y_test, gbm1_pred_test))\n",
    "print('ROC-AUC Score:\\n ', roc_auc_score(y_test, gbm1_pred_test))"
   ]
  },
  {
   "cell_type": "code",
   "execution_count": 81,
   "id": "190dc426",
   "metadata": {},
   "outputs": [
    {
     "data": {
      "text/plain": [
       "Text(0, 0.5, 'Feature Importance Score')"
      ]
     },
     "execution_count": 81,
     "metadata": {},
     "output_type": "execute_result"
    },
    {
     "data": {
      "image/png": "[encoded data removed]",
      "text/plain": [
       "<Figure size 864x432 with 1 Axes>"
      ]
     },
     "metadata": {
      "needs_background": "light"
     },
     "output_type": "display_data"
    }
   ],
   "source": [
    "feat_imp = pd.Series(gbm1.feature_importances_, predictors).sort_values(ascending=False)\n",
    "fig = plt.figure(figsize=(12, 6))\n",
    "feat_imp.plot(kind='bar', title='Feature Importances')\n",
    "plt.ylabel('Feature Importance Score')"
   ]
  },
  {
   "cell_type": "raw",
   "id": "057f816a",
   "metadata": {},
   "source": [
    "We can see some improvement in F1 score (macro & micro), and a change in feature importance ranking. "
   ]
  },
  {
   "cell_type": "code",
   "execution_count": null,
   "id": "9a56d9e6",
   "metadata": {},
   "outputs": [],
   "source": [
    "##### Step3 - Tune Subsample and Lower Learning Rate\n"
   ]
  },
  {
   "cell_type": "code",
   "execution_count": 83,
   "id": "26c82c93",
   "metadata": {},
   "outputs": [
    {
     "data": {
      "text/html": [
       "<style>#sk-container-id-7 {color: black;background-color: white;}#sk-container-id-7 pre{padding: 0;}#sk-container-id-7 div.sk-toggleable {background-color: white;}#sk-container-id-7 label.sk-toggleable__label {cursor: pointer;display: block;width: 100%;margin-bottom: 0;padding: 0.3em;box-sizing: border-box;text-align: center;}#sk-container-id-7 label.sk-toggleable__label-arrow:before {content: \"▸\";float: left;margin-right: 0.25em;color: #696969;}#sk-container-id-7 label.sk-toggleable__label-arrow:hover:before {color: black;}#sk-container-id-7 div.sk-estimator:hover label.sk-toggleable__label-arrow:before {color: black;}#sk-container-id-7 div.sk-toggleable__content {max-height: 0;max-width: 0;overflow: hidden;text-align: left;background-color: #f0f8ff;}#sk-container-id-7 div.sk-toggleable__content pre {margin: 0.2em;color: black;border-radius: 0.25em;background-color: #f0f8ff;}#sk-container-id-7 input.sk-toggleable__control:checked~div.sk-toggleable__content {max-height: 200px;max-width: 100%;overflow: auto;}#sk-container-id-7 input.sk-toggleable__control:checked~label.sk-toggleable__label-arrow:before {content: \"▾\";}#sk-container-id-7 div.sk-estimator input.sk-toggleable__control:checked~label.sk-toggleable__label {background-color: #d4ebff;}#sk-container-id-7 div.sk-label input.sk-toggleable__control:checked~label.sk-toggleable__label {background-color: #d4ebff;}#sk-container-id-7 input.sk-hidden--visually {border: 0;clip: rect(1px 1px 1px 1px);clip: rect(1px, 1px, 1px, 1px);height: 1px;margin: -1px;overflow: hidden;padding: 0;position: absolute;width: 1px;}#sk-container-id-7 div.sk-estimator {font-family: monospace;background-color: #f0f8ff;border: 1px dotted black;border-radius: 0.25em;box-sizing: border-box;margin-bottom: 0.5em;}#sk-container-id-7 div.sk-estimator:hover {background-color: #d4ebff;}#sk-container-id-7 div.sk-parallel-item::after {content: \"\";width: 100%;border-bottom: 1px solid gray;flex-grow: 1;}#sk-container-id-7 div.sk-label:hover label.sk-toggleable__label {background-color: #d4ebff;}#sk-container-id-7 div.sk-serial::before {content: \"\";position: absolute;border-left: 1px solid gray;box-sizing: border-box;top: 0;bottom: 0;left: 50%;z-index: 0;}#sk-container-id-7 div.sk-serial {display: flex;flex-direction: column;align-items: center;background-color: white;padding-right: 0.2em;padding-left: 0.2em;position: relative;}#sk-container-id-7 div.sk-item {position: relative;z-index: 1;}#sk-container-id-7 div.sk-parallel {display: flex;align-items: stretch;justify-content: center;background-color: white;position: relative;}#sk-container-id-7 div.sk-item::before, #sk-container-id-7 div.sk-parallel-item::before {content: \"\";position: absolute;border-left: 1px solid gray;box-sizing: border-box;top: 0;bottom: 0;left: 50%;z-index: -1;}#sk-container-id-7 div.sk-parallel-item {display: flex;flex-direction: column;z-index: 1;position: relative;background-color: white;}#sk-container-id-7 div.sk-parallel-item:first-child::after {align-self: flex-end;width: 50%;}#sk-container-id-7 div.sk-parallel-item:last-child::after {align-self: flex-start;width: 50%;}#sk-container-id-7 div.sk-parallel-item:only-child::after {width: 0;}#sk-container-id-7 div.sk-dashed-wrapped {border: 1px dashed gray;margin: 0 0.4em 0.5em 0.4em;box-sizing: border-box;padding-bottom: 0.4em;background-color: white;}#sk-container-id-7 div.sk-label label {font-family: monospace;font-weight: bold;display: inline-block;line-height: 1.2em;}#sk-container-id-7 div.sk-label-container {text-align: center;}#sk-container-id-7 div.sk-container {/* jupyter's `normalize.less` sets `[hidden] { display: none; }` but bootstrap.min.css set `[hidden] { display: none !important; }` so we also need the `!important` here to be able to override the default hidden behavior on the sphinx rendered scikit-learn.org. See: https://github.com/scikit-learn/scikit-learn/issues/21755 */display: inline-block !important;position: relative;}#sk-container-id-7 div.sk-text-repr-fallback {display: none;}</style><div id=\"sk-container-id-7\" class=\"sk-top-container\"><div class=\"sk-text-repr-fallback\"><pre>GridSearchCV(cv=5,\n",
       "             estimator=GradientBoostingClassifier(max_depth=9, max_features=16,\n",
       "                                                  min_samples_leaf=30,\n",
       "                                                  min_samples_split=600,\n",
       "                                                  n_estimators=80,\n",
       "                                                  random_state=10),\n",
       "             param_grid={&#x27;subsample&#x27;: [0.6, 0.7, 0.75, 0.8, 0.85, 0.9, 1]},\n",
       "             scoring=&#x27;roc_auc&#x27;)</pre><b>In a Jupyter environment, please rerun this cell to show the HTML representation or trust the notebook. <br />On GitHub, the HTML representation is unable to render, please try loading this page with nbviewer.org.</b></div><div class=\"sk-container\" hidden><div class=\"sk-item sk-dashed-wrapped\"><div class=\"sk-label-container\"><div class=\"sk-label sk-toggleable\"><input class=\"sk-toggleable__control sk-hidden--visually\" id=\"sk-estimator-id-17\" type=\"checkbox\" ><label for=\"sk-estimator-id-17\" class=\"sk-toggleable__label sk-toggleable__label-arrow\">GridSearchCV</label><div class=\"sk-toggleable__content\"><pre>GridSearchCV(cv=5,\n",
       "             estimator=GradientBoostingClassifier(max_depth=9, max_features=16,\n",
       "                                                  min_samples_leaf=30,\n",
       "                                                  min_samples_split=600,\n",
       "                                                  n_estimators=80,\n",
       "                                                  random_state=10),\n",
       "             param_grid={&#x27;subsample&#x27;: [0.6, 0.7, 0.75, 0.8, 0.85, 0.9, 1]},\n",
       "             scoring=&#x27;roc_auc&#x27;)</pre></div></div></div><div class=\"sk-parallel\"><div class=\"sk-parallel-item\"><div class=\"sk-item\"><div class=\"sk-label-container\"><div class=\"sk-label sk-toggleable\"><input class=\"sk-toggleable__control sk-hidden--visually\" id=\"sk-estimator-id-18\" type=\"checkbox\" ><label for=\"sk-estimator-id-18\" class=\"sk-toggleable__label sk-toggleable__label-arrow\">estimator: GradientBoostingClassifier</label><div class=\"sk-toggleable__content\"><pre>GradientBoostingClassifier(max_depth=9, max_features=16, min_samples_leaf=30,\n",
       "                           min_samples_split=600, n_estimators=80,\n",
       "                           random_state=10)</pre></div></div></div><div class=\"sk-serial\"><div class=\"sk-item\"><div class=\"sk-estimator sk-toggleable\"><input class=\"sk-toggleable__control sk-hidden--visually\" id=\"sk-estimator-id-19\" type=\"checkbox\" ><label for=\"sk-estimator-id-19\" class=\"sk-toggleable__label sk-toggleable__label-arrow\">GradientBoostingClassifier</label><div class=\"sk-toggleable__content\"><pre>GradientBoostingClassifier(max_depth=9, max_features=16, min_samples_leaf=30,\n",
       "                           min_samples_split=600, n_estimators=80,\n",
       "                           random_state=10)</pre></div></div></div></div></div></div></div></div></div></div>"
      ],
      "text/plain": [
       "GridSearchCV(cv=5,\n",
       "             estimator=GradientBoostingClassifier(max_depth=9, max_features=16,\n",
       "                                                  min_samples_leaf=30,\n",
       "                                                  min_samples_split=600,\n",
       "                                                  n_estimators=80,\n",
       "                                                  random_state=10),\n",
       "             param_grid={'subsample': [0.6, 0.7, 0.75, 0.8, 0.85, 0.9, 1]},\n",
       "             scoring='roc_auc')"
      ]
     },
     "execution_count": 83,
     "metadata": {},
     "output_type": "execute_result"
    }
   ],
   "source": [
    "#3.1 Grid seach on subsample\n",
    "param_test5 = {'subsample':[0.6,0.7,0.75,0.8,0.85,0.9, 1]}\n",
    "gsearch5 = GridSearchCV(estimator = GradientBoostingClassifier(learning_rate=0.1,\n",
    "                                                               n_estimators=80,\n",
    "                                                               max_depth=9,\n",
    "                                                               min_samples_split=600,\n",
    "                                                               min_samples_leaf=30,\n",
    "                                                               random_state=10,\n",
    "                                                               max_features=16),\n",
    "                       param_grid = param_test5, scoring='roc_auc', cv=5)\n",
    "gsearch5.fit(X_train,y_train)"
   ]
  },
  {
   "cell_type": "code",
   "execution_count": 84,
   "id": "67fac59f",
   "metadata": {},
   "outputs": [
    {
     "data": {
      "text/plain": [
       "({'subsample': 0.8}, 0.6547729699378365)"
      ]
     },
     "execution_count": 84,
     "metadata": {},
     "output_type": "execute_result"
    }
   ],
   "source": [
    "gsearch5.best_params_, gsearch5.best_score_"
   ]
  },
  {
   "cell_type": "raw",
   "id": "1d09fb1a",
   "metadata": {},
   "source": [
    "With all tuned lets get GBM performance on our validation set"
   ]
  },
  {
   "cell_type": "code",
   "execution_count": 85,
   "id": "73278abc",
   "metadata": {},
   "outputs": [
    {
     "name": "stdout",
     "output_type": "stream",
     "text": [
      "\n",
      "Gradient Boost [2] Performance:\n",
      "-----------------------------------\n",
      "F1 Score micro        :  0.6329089962614168\n",
      "F1 Score macro        :  0.5762296708799403\n",
      "classification report:\n",
      "                precision    recall  f1-score   support\n",
      "\n",
      "           0       0.65      0.84      0.73     12571\n",
      "           1       0.58      0.33      0.42      8560\n",
      "\n",
      "    accuracy                           0.63     21131\n",
      "   macro avg       0.62      0.58      0.58     21131\n",
      "weighted avg       0.62      0.63      0.61     21131\n",
      "\n",
      "ROC-AUC Score:\n",
      "  0.5845512117341723\n"
     ]
    }
   ],
   "source": [
    "#3.2 reducing the learning rate and proportionally increasing the number of estimators \n",
    "gbm2 = GradientBoostingClassifier(max_depth=9, max_features=16, min_samples_leaf=30,\n",
    "                           min_samples_split=600, n_estimators=80,\n",
    "                           random_state=10, subsample=0.8, learning_rate=0.1) \n",
    "gbm2.fit(X_train,y_train)\n",
    "gbm2_pred_test = gbm2.predict(X_test)\n",
    "\n",
    "print('\\nGradient Boost [2] Performance:')\n",
    "print('-----------------------------------')\n",
    "print('F1 Score micro        : ',f1_score(y_test, gbm2_pred_test,average='micro'))\n",
    "print('F1 Score macro        : ', f1_score(y_test, gbm2_pred_test,average='macro'))\n",
    "print('classification report:\\n ', classification_report(y_test, gbm2_pred_test))\n",
    "print('ROC-AUC Score:\\n ', roc_auc_score(y_test, gbm2_pred_test))"
   ]
  },
  {
   "cell_type": "code",
   "execution_count": 86,
   "id": "ede9ffda",
   "metadata": {},
   "outputs": [
    {
     "data": {
      "text/plain": [
       "Text(0, 0.5, 'Feature Importance Score')"
      ]
     },
     "execution_count": 86,
     "metadata": {},
     "output_type": "execute_result"
    },
    {
     "data": {
      "image/png": "[encoded data removed]",
      "text/plain": [
       "<Figure size 864x432 with 1 Axes>"
      ]
     },
     "metadata": {
      "needs_background": "light"
     },
     "output_type": "display_data"
    }
   ],
   "source": [
    "feat_imp = pd.Series(gbm2.feature_importances_, predictors).sort_values(ascending=False)\n",
    "fig = plt.figure(figsize=(12, 6))\n",
    "feat_imp.plot(kind='bar', title='Feature Importances')\n",
    "plt.ylabel('Feature Importance Score')"
   ]
  },
  {
   "cell_type": "raw",
   "id": "8e08efe8",
   "metadata": {},
   "source": [
    "Even though confusion matrix and F1 score macro became better, yet our F1 score micro has dropped to 0.5878. \n",
    "\n",
    "Now lets try reducing the learning rate and proportionally increasing the number of estimators to get more robust results:"
   ]
  },
  {
   "cell_type": "code",
   "execution_count": 87,
   "id": "4f0137a2",
   "metadata": {},
   "outputs": [
    {
     "name": "stdout",
     "output_type": "stream",
     "text": [
      "\n",
      "Gradient Boost [3] Performance:\n",
      "-----------------------------------\n",
      "F1 Score micro        :  0.6321518148691496\n",
      "F1 Score macro        :  0.5723838958373606\n",
      "classification report:\n",
      "                precision    recall  f1-score   support\n",
      "\n",
      "           0       0.65      0.85      0.73     12571\n",
      "           1       0.58      0.32      0.41      8560\n",
      "\n",
      "    accuracy                           0.63     21131\n",
      "   macro avg       0.61      0.58      0.57     21131\n",
      "weighted avg       0.62      0.63      0.60     21131\n",
      "\n",
      "ROC-AUC Score:\n",
      "  0.5821629360187406\n"
     ]
    }
   ],
   "source": [
    "#3.3 reducing the learning rate to 50% and proportionally increasing the number of estimators \n",
    "gbm3 = GradientBoostingClassifier(max_depth=9, max_features=16, min_samples_leaf=30,\n",
    "                           min_samples_split=600, n_estimators=140,\n",
    "                           random_state=10, subsample=0.8, learning_rate=0.05) \n",
    "gbm3.fit(X_train,y_train)\n",
    "gbm3_pred_test = gbm3.predict(X_test)\n",
    "\n",
    "print('\\nGradient Boost [3] Performance:')\n",
    "print('-----------------------------------')\n",
    "print('F1 Score micro        : ', f1_score(y_test, gbm3_pred_test,average='micro'))\n",
    "print('F1 Score macro        : ', f1_score(y_test, gbm3_pred_test,average='macro'))\n",
    "\n",
    "print('classification report:\\n ', classification_report(y_test, gbm3_pred_test))\n",
    "print('ROC-AUC Score:\\n ', roc_auc_score(y_test, gbm3_pred_test))"
   ]
  },
  {
   "cell_type": "code",
   "execution_count": 88,
   "id": "3706e705",
   "metadata": {},
   "outputs": [
    {
     "data": {
      "text/plain": [
       "Text(0, 0.5, 'Feature Importance Score')"
      ]
     },
     "execution_count": 88,
     "metadata": {},
     "output_type": "execute_result"
    },
    {
     "data": {
      "image/png": "[encoded data removed]",
      "text/plain": [
       "<Figure size 864x432 with 1 Axes>"
      ]
     },
     "metadata": {
      "needs_background": "light"
     },
     "output_type": "display_data"
    }
   ],
   "source": [
    "feat_imp = pd.Series(gbm3.feature_importances_, predictors).sort_values(ascending=False)\n",
    "fig = plt.figure(figsize=(12, 6))\n",
    "feat_imp.plot(kind='bar', title='Feature Importances')\n",
    "plt.ylabel('Feature Importance Score')"
   ]
  },
  {
   "cell_type": "code",
   "execution_count": 89,
   "id": "9388fe96",
   "metadata": {},
   "outputs": [
    {
     "name": "stdout",
     "output_type": "stream",
     "text": [
      "\n",
      "Gradient Boost [4] Performance:\n",
      "-----------------------------------\n",
      "F1 Score micro        :  0.6327197009133501\n",
      "F1 Score macro        :  0.5725861859187396\n",
      "classification report:\n",
      "                precision    recall  f1-score   support\n",
      "\n",
      "           0       0.65      0.85      0.73     12571\n",
      "           1       0.59      0.32      0.41      8560\n",
      "\n",
      "    accuracy                           0.63     21131\n",
      "   macro avg       0.62      0.58      0.57     21131\n",
      "weighted avg       0.62      0.63      0.60     21131\n",
      "\n",
      "ROC-AUC Score:\n",
      "  0.582509765095008\n"
     ]
    }
   ],
   "source": [
    "#3.4 reducing the learning rate to 10% and proportionally increasing the number of estimators \n",
    "gbm4 = GradientBoostingClassifier(max_depth=9,max_features=16,min_samples_leaf=3,\n",
    "                           min_samples_split=60, n_estimators=700,\n",
    "                           random_state=10, subsample=0.8,learning_rate=0.01) \n",
    "gbm4.fit(X_train,y_train)\n",
    "gbm4_pred_test = gbm4.predict(X_test)\n",
    "\n",
    "print('\\nGradient Boost [4] Performance:')\n",
    "print('-----------------------------------')\n",
    "print('F1 Score micro        : ', f1_score(y_test, gbm4_pred_test,average='micro'))\n",
    "print('F1 Score macro        : ', f1_score(y_test, gbm4_pred_test,average='macro'))\n",
    "\n",
    "print('classification report:\\n ', classification_report(y_test, gbm4_pred_test))\n",
    "print('ROC-AUC Score:\\n ', roc_auc_score(y_test, gbm4_pred_test))"
   ]
  },
  {
   "cell_type": "code",
   "execution_count": 90,
   "id": "302488f6",
   "metadata": {},
   "outputs": [
    {
     "data": {
      "text/plain": [
       "Text(0, 0.5, 'Feature Importance Score')"
      ]
     },
     "execution_count": 90,
     "metadata": {},
     "output_type": "execute_result"
    },
    {
     "data": {
      "image/png": "[encoded data removed]",
      "text/plain": [
       "<Figure size 864x432 with 1 Axes>"
      ]
     },
     "metadata": {
      "needs_background": "light"
     },
     "output_type": "display_data"
    }
   ],
   "source": [
    "feat_imp = pd.Series(gbm4.feature_importances_, predictors).sort_values(ascending=False)\n",
    "fig = plt.figure(figsize=(12, 6))\n",
    "feat_imp.plot(kind='bar', title='Feature Importances')\n",
    "plt.ylabel('Feature Importance Score')"
   ]
  },
  {
   "cell_type": "code",
   "execution_count": 91,
   "id": "5664a674",
   "metadata": {},
   "outputs": [
    {
     "name": "stdout",
     "output_type": "stream",
     "text": [
      "\n",
      "Gradient Boost [5] Performance:\n",
      "-----------------------------------\n",
      "F1 Score micro        :  0.6340447683498178\n",
      "F1 Score macro        :  0.5782132287759887\n",
      "classification report:\n",
      "                precision    recall  f1-score   support\n",
      "\n",
      "           0       0.65      0.84      0.73     12571\n",
      "           1       0.58      0.33      0.42      8560\n",
      "\n",
      "    accuracy                           0.63     21131\n",
      "   macro avg       0.62      0.59      0.58     21131\n",
      "weighted avg       0.62      0.63      0.61     21131\n",
      "\n",
      "ROC-AUC Score:\n",
      "  0.5861021779470179\n"
     ]
    }
   ],
   "source": [
    "#3.5 reducing the learning rate to 5% and proportionally increasing the number of estimators \n",
    "gbm5 = GradientBoostingClassifier(max_depth=12, max_features=16, min_samples_leaf=70,\n",
    "                           min_samples_split=800, n_estimators=1400,\n",
    "                           random_state=10, subsample=0.8, learning_rate=0.005) \n",
    "gbm5.fit(X_train,y_train)\n",
    "gbm5_pred_test = gbm5.predict(X_test)\n",
    "\n",
    "print('\\nGradient Boost [5] Performance:')\n",
    "print('-----------------------------------')\n",
    "print('F1 Score micro        : ', f1_score(y_test, gbm5_pred_test,average='micro'))\n",
    "print('F1 Score macro        : ', f1_score(y_test, gbm5_pred_test,average='macro'))\n",
    "\n",
    "print('classification report:\\n ', classification_report(y_test, gbm5_pred_test))\n",
    "print('ROC-AUC Score:\\n ', roc_auc_score(y_test, gbm5_pred_test))"
   ]
  },
  {
   "cell_type": "code",
   "execution_count": 92,
   "id": "921f714a",
   "metadata": {},
   "outputs": [
    {
     "data": {
      "text/plain": [
       "Text(0, 0.5, 'Feature Importance Score')"
      ]
     },
     "execution_count": 92,
     "metadata": {},
     "output_type": "execute_result"
    },
    {
     "data": {
      "image/png": "[encoded data removed]",
      "text/plain": [
       "<Figure size 864x432 with 1 Axes>"
      ]
     },
     "metadata": {
      "needs_background": "light"
     },
     "output_type": "display_data"
    }
   ],
   "source": [
    "feat_imp = pd.Series(gbm5.feature_importances_, predictors).sort_values(ascending=False)\n",
    "fig = plt.figure(figsize=(12, 6))\n",
    "feat_imp.plot(kind='bar', title='Feature Importances')\n",
    "plt.ylabel('Feature Importance Score')"
   ]
  },
  {
   "cell_type": "code",
   "execution_count": null,
   "id": "21a4d025",
   "metadata": {},
   "outputs": [],
   "source": [
    "## Score"
   ]
  },
  {
   "cell_type": "code",
   "execution_count": null,
   "id": "a19e2a6e",
   "metadata": {},
   "outputs": [],
   "source": [
    "model_all=[modellr,modeldt,modeldt_grid,modelrf,modelrf_grid,ada_model,gboost_model,xgb_model_grid,gbm0,gbm1,gbm2,gbm3,gbm4,gbm5]\n",
    "\n",
    "model_scores = { \"Model Name\" : [],\n",
    "                \"Accuracy score train\" : [],\n",
    "               \"Precision_score train\" : [],\n",
    "               \"Recall_Score train\" : [],\n",
    "               \"Roc_AUC_Score train\" : [],\n",
    "                \"F1-Score Train\" : [],\n",
    "               \"Accuracy score test\" : [],\n",
    "               \"Precision_score test\" : [],\n",
    "               \"Recall_Score test\" : [],\n",
    "               \"Roc_AUC_Score test\" : [],\n",
    "               \"F1-Score test\" : []}\n",
    "\n",
    "for model in model_all:\n",
    "    \n",
    "    model_scores['Model Name'].append(str(model))\n",
    "    pred_tr = model.predict(X_train)\n",
    "    model_scores['Accuracy score train'].append(model.score(X_train,y_train))\n",
    "     \n",
    "    model_scores['Precision_score train'].append(precision_score(y_train,pred_tr))\n",
    "    model_scores['Recall_Score train'].append(recall_score(y_train,pred_tr))\n",
    "    model_scores['Roc_AUC_Score train'].append(roc_auc_score(y_train,pred_tr))\n",
    "    model_scores['F1-Score Train'].append(f1_score(y_train,pred_tr))\n",
    "    \n",
    "    pred_ts = model.predict(X_test) \n",
    "    model_scores['Accuracy score test'].append(model.score(X_test,y_test))\n",
    "     \n",
    "    model_scores['Precision_score test'].append(precision_score(y_test,pred_ts))\n",
    "    model_scores['Recall_Score test'].append(recall_score(y_test,pred_ts))\n",
    "    model_scores['Roc_AUC_Score test'].append(roc_auc_score(y_test,pred_ts))\n",
    "    model_scores['F1-Score test'].append(f1_score(y_test,pred_ts))\n",
    "\n",
    "scores_df=pd.DataFrame(model_scores)"
   ]
  },
  {
   "cell_type": "code",
   "execution_count": 248,
   "id": "113f84cc",
   "metadata": {},
   "outputs": [
    {
     "data": {
      "text/html": [
       "<div>\n",
       "<style scoped>\n",
       "    .dataframe tbody tr th:only-of-type {\n",
       "        vertical-align: middle;\n",
       "    }\n",
       "\n",
       "    .dataframe tbody tr th {\n",
       "        vertical-align: top;\n",
       "    }\n",
       "\n",
       "    .dataframe thead th {\n",
       "        text-align: right;\n",
       "    }\n",
       "</style>\n",
       "<table border=\"1\" class=\"dataframe\">\n",
       "  <thead>\n",
       "    <tr style=\"text-align: right;\">\n",
       "      <th></th>\n",
       "      <th>Model Name</th>\n",
       "      <th>Accuracy score train</th>\n",
       "      <th>Precision_score train</th>\n",
       "      <th>Recall_Score train</th>\n",
       "      <th>Roc_AUC_Score train</th>\n",
       "      <th>F1-Score Train</th>\n",
       "      <th>Accuracy score test</th>\n",
       "      <th>Precision_score test</th>\n",
       "      <th>Recall_Score test</th>\n",
       "      <th>Roc_AUC_Score test</th>\n",
       "      <th>F1-Score test</th>\n",
       "      <th>Diff_train_test</th>\n",
       "    </tr>\n",
       "  </thead>\n",
       "  <tbody>\n",
       "    <tr>\n",
       "      <th>0</th>\n",
       "      <td>LogisticRegression(random_state=10)</td>\n",
       "      <td>0.622457</td>\n",
       "      <td>0.590131</td>\n",
       "      <td>0.222751</td>\n",
       "      <td>0.558699</td>\n",
       "      <td>0.323423</td>\n",
       "      <td>0.621173</td>\n",
       "      <td>0.583258</td>\n",
       "      <td>0.227103</td>\n",
       "      <td>0.558305</td>\n",
       "      <td>0.326915</td>\n",
       "      <td>0.000394</td>\n",
       "    </tr>\n",
       "    <tr>\n",
       "      <th>1</th>\n",
       "      <td>DecisionTreeClassifier(random_state=10)</td>\n",
       "      <td>0.999980</td>\n",
       "      <td>1.000000</td>\n",
       "      <td>0.999950</td>\n",
       "      <td>0.999975</td>\n",
       "      <td>0.999975</td>\n",
       "      <td>0.543940</td>\n",
       "      <td>0.440160</td>\n",
       "      <td>0.462734</td>\n",
       "      <td>0.530985</td>\n",
       "      <td>0.451165</td>\n",
       "      <td>0.468990</td>\n",
       "    </tr>\n",
       "    <tr>\n",
       "      <th>2</th>\n",
       "      <td>DecisionTreeClassifier(criterion='entropy', ma...</td>\n",
       "      <td>0.619110</td>\n",
       "      <td>0.593632</td>\n",
       "      <td>0.189506</td>\n",
       "      <td>0.550583</td>\n",
       "      <td>0.287297</td>\n",
       "      <td>0.617623</td>\n",
       "      <td>0.583449</td>\n",
       "      <td>0.196028</td>\n",
       "      <td>0.550365</td>\n",
       "      <td>0.293459</td>\n",
       "      <td>0.000218</td>\n",
       "    </tr>\n",
       "    <tr>\n",
       "      <th>3</th>\n",
       "      <td>RandomForestClassifier(random_state=10)</td>\n",
       "      <td>0.999980</td>\n",
       "      <td>0.999950</td>\n",
       "      <td>1.000000</td>\n",
       "      <td>0.999983</td>\n",
       "      <td>0.999975</td>\n",
       "      <td>0.622829</td>\n",
       "      <td>0.559692</td>\n",
       "      <td>0.323131</td>\n",
       "      <td>0.575017</td>\n",
       "      <td>0.409717</td>\n",
       "      <td>0.424966</td>\n",
       "    </tr>\n",
       "    <tr>\n",
       "      <th>4</th>\n",
       "      <td>RandomForestClassifier(criterion='entropy', ma...</td>\n",
       "      <td>0.635621</td>\n",
       "      <td>0.642250</td>\n",
       "      <td>0.226956</td>\n",
       "      <td>0.570434</td>\n",
       "      <td>0.335393</td>\n",
       "      <td>0.626615</td>\n",
       "      <td>0.606824</td>\n",
       "      <td>0.222313</td>\n",
       "      <td>0.562115</td>\n",
       "      <td>0.325410</td>\n",
       "      <td>0.008318</td>\n",
       "    </tr>\n",
       "    <tr>\n",
       "      <th>5</th>\n",
       "      <td>AdaBoostClassifier(n_estimators=40, random_sta...</td>\n",
       "      <td>0.628380</td>\n",
       "      <td>0.591367</td>\n",
       "      <td>0.267511</td>\n",
       "      <td>0.570817</td>\n",
       "      <td>0.368381</td>\n",
       "      <td>0.627940</td>\n",
       "      <td>0.588714</td>\n",
       "      <td>0.270561</td>\n",
       "      <td>0.570926</td>\n",
       "      <td>0.370738</td>\n",
       "      <td>-0.000109</td>\n",
       "    </tr>\n",
       "    <tr>\n",
       "      <th>6</th>\n",
       "      <td>GradientBoostingClassifier(max_depth=10, n_est...</td>\n",
       "      <td>0.889135</td>\n",
       "      <td>0.948494</td>\n",
       "      <td>0.768037</td>\n",
       "      <td>0.869818</td>\n",
       "      <td>0.848780</td>\n",
       "      <td>0.619753</td>\n",
       "      <td>0.544274</td>\n",
       "      <td>0.376986</td>\n",
       "      <td>0.581023</td>\n",
       "      <td>0.445441</td>\n",
       "      <td>0.288795</td>\n",
       "    </tr>\n",
       "    <tr>\n",
       "      <th>7</th>\n",
       "      <td>XGBClassifier(base_score=0.5, booster='gbtree'...</td>\n",
       "      <td>0.658479</td>\n",
       "      <td>0.649300</td>\n",
       "      <td>0.341311</td>\n",
       "      <td>0.607887</td>\n",
       "      <td>0.447427</td>\n",
       "      <td>0.633524</td>\n",
       "      <td>0.589947</td>\n",
       "      <td>0.312617</td>\n",
       "      <td>0.582329</td>\n",
       "      <td>0.408674</td>\n",
       "      <td>0.025558</td>\n",
       "    </tr>\n",
       "    <tr>\n",
       "      <th>8</th>\n",
       "      <td>GradientBoostingClassifier()</td>\n",
       "      <td>0.638156</td>\n",
       "      <td>0.626768</td>\n",
       "      <td>0.264006</td>\n",
       "      <td>0.578474</td>\n",
       "      <td>0.371521</td>\n",
       "      <td>0.631395</td>\n",
       "      <td>0.604557</td>\n",
       "      <td>0.260397</td>\n",
       "      <td>0.572208</td>\n",
       "      <td>0.364008</td>\n",
       "      <td>0.006266</td>\n",
       "    </tr>\n",
       "    <tr>\n",
       "      <th>9</th>\n",
       "      <td>GradientBoostingClassifier(max_depth=9, max_fe...</td>\n",
       "      <td>0.676348</td>\n",
       "      <td>0.679286</td>\n",
       "      <td>0.380914</td>\n",
       "      <td>0.629223</td>\n",
       "      <td>0.488115</td>\n",
       "      <td>0.632909</td>\n",
       "      <td>0.582903</td>\n",
       "      <td>0.329790</td>\n",
       "      <td>0.584551</td>\n",
       "      <td>0.421249</td>\n",
       "      <td>0.044672</td>\n",
       "    </tr>\n",
       "    <tr>\n",
       "      <th>10</th>\n",
       "      <td>GradientBoostingClassifier(max_depth=9, max_fe...</td>\n",
       "      <td>0.676348</td>\n",
       "      <td>0.679286</td>\n",
       "      <td>0.380914</td>\n",
       "      <td>0.629223</td>\n",
       "      <td>0.488115</td>\n",
       "      <td>0.632909</td>\n",
       "      <td>0.582903</td>\n",
       "      <td>0.329790</td>\n",
       "      <td>0.584551</td>\n",
       "      <td>0.421249</td>\n",
       "      <td>0.044672</td>\n",
       "    </tr>\n",
       "    <tr>\n",
       "      <th>11</th>\n",
       "      <td>GradientBoostingClassifier(learning_rate=0.05,...</td>\n",
       "      <td>0.670608</td>\n",
       "      <td>0.673257</td>\n",
       "      <td>0.363140</td>\n",
       "      <td>0.621563</td>\n",
       "      <td>0.471801</td>\n",
       "      <td>0.632152</td>\n",
       "      <td>0.584243</td>\n",
       "      <td>0.318808</td>\n",
       "      <td>0.582163</td>\n",
       "      <td>0.412516</td>\n",
       "      <td>0.039400</td>\n",
       "    </tr>\n",
       "    <tr>\n",
       "      <th>12</th>\n",
       "      <td>GradientBoostingClassifier(learning_rate=0.01,...</td>\n",
       "      <td>0.724865</td>\n",
       "      <td>0.786686</td>\n",
       "      <td>0.440194</td>\n",
       "      <td>0.679456</td>\n",
       "      <td>0.564513</td>\n",
       "      <td>0.632720</td>\n",
       "      <td>0.586006</td>\n",
       "      <td>0.317991</td>\n",
       "      <td>0.582510</td>\n",
       "      <td>0.412268</td>\n",
       "      <td>0.096946</td>\n",
       "    </tr>\n",
       "    <tr>\n",
       "      <th>13</th>\n",
       "      <td>GradientBoostingClassifier(learning_rate=0.005...</td>\n",
       "      <td>0.679492</td>\n",
       "      <td>0.683955</td>\n",
       "      <td>0.388224</td>\n",
       "      <td>0.633031</td>\n",
       "      <td>0.495305</td>\n",
       "      <td>0.634045</td>\n",
       "      <td>0.584682</td>\n",
       "      <td>0.333528</td>\n",
       "      <td>0.586102</td>\n",
       "      <td>0.424756</td>\n",
       "      <td>0.046929</td>\n",
       "    </tr>\n",
       "  </tbody>\n",
       "</table>\n",
       "</div>"
      ],
      "text/plain": [
       "                                           Model Name  Accuracy score train  \\\n",
       "0                 LogisticRegression(random_state=10)              0.622457   \n",
       "1             DecisionTreeClassifier(random_state=10)              0.999980   \n",
       "2   DecisionTreeClassifier(criterion='entropy', ma...              0.619110   \n",
       "3             RandomForestClassifier(random_state=10)              0.999980   \n",
       "4   RandomForestClassifier(criterion='entropy', ma...              0.635621   \n",
       "5   AdaBoostClassifier(n_estimators=40, random_sta...              0.628380   \n",
       "6   GradientBoostingClassifier(max_depth=10, n_est...              0.889135   \n",
       "7   XGBClassifier(base_score=0.5, booster='gbtree'...              0.658479   \n",
       "8                        GradientBoostingClassifier()              0.638156   \n",
       "9   GradientBoostingClassifier(max_depth=9, max_fe...              0.676348   \n",
       "10  GradientBoostingClassifier(max_depth=9, max_fe...              0.676348   \n",
       "11  GradientBoostingClassifier(learning_rate=0.05,...              0.670608   \n",
       "12  GradientBoostingClassifier(learning_rate=0.01,...              0.724865   \n",
       "13  GradientBoostingClassifier(learning_rate=0.005...              0.679492   \n",
       "\n",
       "    Precision_score train  Recall_Score train  Roc_AUC_Score train  \\\n",
       "0                0.590131            0.222751             0.558699   \n",
       "1                1.000000            0.999950             0.999975   \n",
       "2                0.593632            0.189506             0.550583   \n",
       "3                0.999950            1.000000             0.999983   \n",
       "4                0.642250            0.226956             0.570434   \n",
       "5                0.591367            0.267511             0.570817   \n",
       "6                0.948494            0.768037             0.869818   \n",
       "7                0.649300            0.341311             0.607887   \n",
       "8                0.626768            0.264006             0.578474   \n",
       "9                0.679286            0.380914             0.629223   \n",
       "10               0.679286            0.380914             0.629223   \n",
       "11               0.673257            0.363140             0.621563   \n",
       "12               0.786686            0.440194             0.679456   \n",
       "13               0.683955            0.388224             0.633031   \n",
       "\n",
       "    F1-Score Train  Accuracy score test  Precision_score test  \\\n",
       "0         0.323423             0.621173              0.583258   \n",
       "1         0.999975             0.543940              0.440160   \n",
       "2         0.287297             0.617623              0.583449   \n",
       "3         0.999975             0.622829              0.559692   \n",
       "4         0.335393             0.626615              0.606824   \n",
       "5         0.368381             0.627940              0.588714   \n",
       "6         0.848780             0.619753              0.544274   \n",
       "7         0.447427             0.633524              0.589947   \n",
       "8         0.371521             0.631395              0.604557   \n",
       "9         0.488115             0.632909              0.582903   \n",
       "10        0.488115             0.632909              0.582903   \n",
       "11        0.471801             0.632152              0.584243   \n",
       "12        0.564513             0.632720              0.586006   \n",
       "13        0.495305             0.634045              0.584682   \n",
       "\n",
       "    Recall_Score test  Roc_AUC_Score test  F1-Score test  Diff_train_test  \n",
       "0            0.227103            0.558305       0.326915         0.000394  \n",
       "1            0.462734            0.530985       0.451165         0.468990  \n",
       "2            0.196028            0.550365       0.293459         0.000218  \n",
       "3            0.323131            0.575017       0.409717         0.424966  \n",
       "4            0.222313            0.562115       0.325410         0.008318  \n",
       "5            0.270561            0.570926       0.370738        -0.000109  \n",
       "6            0.376986            0.581023       0.445441         0.288795  \n",
       "7            0.312617            0.582329       0.408674         0.025558  \n",
       "8            0.260397            0.572208       0.364008         0.006266  \n",
       "9            0.329790            0.584551       0.421249         0.044672  \n",
       "10           0.329790            0.584551       0.421249         0.044672  \n",
       "11           0.318808            0.582163       0.412516         0.039400  \n",
       "12           0.317991            0.582510       0.412268         0.096946  \n",
       "13           0.333528            0.586102       0.424756         0.046929  "
      ]
     },
     "execution_count": 248,
     "metadata": {},
     "output_type": "execute_result"
    }
   ],
   "source": [
    "scores_df"
   ]
  },
  {
   "cell_type": "code",
   "execution_count": null,
   "id": "618ea940",
   "metadata": {},
   "outputs": [],
   "source": [
    "scores_df['Diff_train_test']=scores_df['Roc_AUC_Score train']-scores_df['Roc_AUC_Score test']\n",
    "\n",
    "scores_df.sort_values('Diff_train_test')"
   ]
  }
 ],
 "metadata": {
  "kernelspec": {
   "display_name": "Python 3 (ipykernel)",
   "language": "python",
   "name": "python3"
  },
  "language_info": {
   "codemirror_mode": {
    "name": "ipython",
    "version": 3
   },
   "file_extension": ".py",
   "mimetype": "text/x-python",
   "name": "python",
   "nbconvert_exporter": "python",
   "pygments_lexer": "ipython3",
   "version": "3.9.12"
  }
 },
 "nbformat": 4,
 "nbformat_minor": 5
}
